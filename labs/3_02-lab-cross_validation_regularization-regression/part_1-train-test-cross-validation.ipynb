{
 "cells": [
  {
   "cell_type": "markdown",
   "metadata": {},
   "source": [
    "<img src=\"http://imgur.com/1ZcRyrc.png\" style=\"float: left; margin: 20px; height: 55px\">\n",
    "\n",
    "# Train-Test Split and Cross-Validation Lab\n",
    "\n",
    "_Authors: Joseph Nelson (DC), Kiefer Katovich (SF)_\n",
    "\n",
    "---\n",
    "\n",
    "## Review of Train/Test Validation Methods\n",
    "\n",
    "We've discussed overfitting, underfitting, and how to validate the \"generalizeability\" of your models by testing them on unseen data. \n",
    "\n",
    "In this lab you'll practice two related validation methods: \n",
    "1. **train/test split**\n",
    "2. **k-fold cross-validation**\n",
    "\n",
    "Train/test split and k-fold cross-validation both serve two useful purposes:\n",
    "- We prevent overfitting by not using all the data, and\n",
    "- We retain some remaining data to evaluate our model.\n",
    "\n",
    "In the case of cross-validation, the model fitting and evaluation is performed multiple times on different train/test splits of the data.\n",
    "\n",
    "Ultimately we can use the training/test validation framework to compare multiple models on the same dataset. This could be comparisons of two linear models, or of completely different models on the same data.\n"
   ]
  },
  {
   "cell_type": "markdown",
   "metadata": {},
   "source": [
    "## Instructions\n",
    "\n",
    "For your independent practice, fit **three different models** on the Boston Housing Data. For example, you could pick three different subsets of variables, one or more polynomial models, or any other model that you like. \n",
    "\n",
    "**Start with train/test split validation:**\n",
    "* Fix a testing/training split of the data.\n",
    "* Train each of your models on the training data.\n",
    "* Evaluate each of the models on the testing data.\n",
    "* Rank the models by how well they score on the testing data set.\n",
    "\n",
    "**Then try k-fold cross-validation:**\n",
    "* Perform a k-fold cross-validation and use the cross-validation scores to compare your models. Did this change your rankings?\n",
    "* Try a few different k-splits of the data for the same models.\n",
    "\n",
    "If you're interested, try a variety of response variables. We start with **MEDV** (the `.target` attribute from the data set load method)."
   ]
  },
  {
   "cell_type": "code",
   "execution_count": 1,
   "metadata": {
    "collapsed": true
   },
   "outputs": [],
   "source": [
    "from matplotlib import pyplot as plt\n",
    "\n",
    "import numpy as np\n",
    "import pandas as pd\n",
    "from scipy import stats\n",
    "import seaborn as sns\n",
    "\n",
    "from sklearn.linear_model import LinearRegression\n",
    "from sklearn.model_selection import train_test_split, cross_val_score\n",
    "\n",
    "%config InlineBackend.figure_format = 'retina'\n",
    "%matplotlib inline\n",
    "\n",
    "plt.style.use('fivethirtyeight')\n"
   ]
  },
  {
   "cell_type": "code",
   "execution_count": 2,
   "metadata": {
    "collapsed": true
   },
   "outputs": [],
   "source": [
    "import pandas as pd\n",
    "import numpy as np\n",
    "boston = pd.read_csv(\"./datasets/boston_data.csv\")\n",
    "\n",
    "X = boston.drop(columns = 'MEDV')\n",
    "y = boston['MEDV']"
   ]
  },
  {
   "cell_type": "markdown",
   "metadata": {},
   "source": [
    "### 1) Clean up any data problems.\n",
    "\n",
    "Fix any problems with the data, if applicable."
   ]
  },
  {
   "cell_type": "code",
   "execution_count": 3,
   "metadata": {
    "collapsed": true
   },
   "outputs": [
    {
     "name": "stdout",
     "output_type": "stream",
     "text": [
      "<class 'pandas.core.frame.DataFrame'>\n",
      "RangeIndex: 506 entries, 0 to 505\n",
      "Data columns (total 14 columns):\n",
      " #   Column   Non-Null Count  Dtype  \n",
      "---  ------   --------------  -----  \n",
      " 0   CRIM     506 non-null    float64\n",
      " 1   ZN       506 non-null    float64\n",
      " 2   INDUS    506 non-null    float64\n",
      " 3   CHAS     506 non-null    float64\n",
      " 4   NOX      506 non-null    float64\n",
      " 5   RM       506 non-null    float64\n",
      " 6   AGE      506 non-null    float64\n",
      " 7   DIS      506 non-null    float64\n",
      " 8   RAD      506 non-null    float64\n",
      " 9   TAX      506 non-null    float64\n",
      " 10  PTRATIO  506 non-null    float64\n",
      " 11  B        506 non-null    float64\n",
      " 12  LSTAT    506 non-null    float64\n",
      " 13  MEDV     506 non-null    float64\n",
      "dtypes: float64(14)\n",
      "memory usage: 55.5 KB\n"
     ]
    }
   ],
   "source": [
    "# A: \n",
    "boston.info()"
   ]
  },
  {
   "cell_type": "markdown",
   "metadata": {},
   "source": [
    "No null values found."
   ]
  },
  {
   "cell_type": "markdown",
   "metadata": {},
   "source": [
    "### 2) Select 3–4 variables with your data set on which to perform a 50-50 train/test split.\n",
    "\n",
    "- Use scikit-learn.\n",
    "- Score and plot your predictions."
   ]
  },
  {
   "cell_type": "code",
   "execution_count": 4,
   "metadata": {
    "collapsed": true
   },
   "outputs": [],
   "source": [
    "predictors = ['CRIM', 'ZN', 'INDUS', 'RM']\n",
    "# 50-50\n",
    "X_train, X_test, y_train, y_test = train_test_split(X[predictors], y, train_size=0.5, random_state=2)"
   ]
  },
  {
   "cell_type": "code",
   "execution_count": 5,
   "metadata": {},
   "outputs": [],
   "source": [
    "# instantiate\n",
    "lr = LinearRegression()"
   ]
  },
  {
   "cell_type": "code",
   "execution_count": 6,
   "metadata": {},
   "outputs": [
    {
     "data": {
      "text/html": [
       "<style>#sk-container-id-1 {color: black;background-color: white;}#sk-container-id-1 pre{padding: 0;}#sk-container-id-1 div.sk-toggleable {background-color: white;}#sk-container-id-1 label.sk-toggleable__label {cursor: pointer;display: block;width: 100%;margin-bottom: 0;padding: 0.3em;box-sizing: border-box;text-align: center;}#sk-container-id-1 label.sk-toggleable__label-arrow:before {content: \"▸\";float: left;margin-right: 0.25em;color: #696969;}#sk-container-id-1 label.sk-toggleable__label-arrow:hover:before {color: black;}#sk-container-id-1 div.sk-estimator:hover label.sk-toggleable__label-arrow:before {color: black;}#sk-container-id-1 div.sk-toggleable__content {max-height: 0;max-width: 0;overflow: hidden;text-align: left;background-color: #f0f8ff;}#sk-container-id-1 div.sk-toggleable__content pre {margin: 0.2em;color: black;border-radius: 0.25em;background-color: #f0f8ff;}#sk-container-id-1 input.sk-toggleable__control:checked~div.sk-toggleable__content {max-height: 200px;max-width: 100%;overflow: auto;}#sk-container-id-1 input.sk-toggleable__control:checked~label.sk-toggleable__label-arrow:before {content: \"▾\";}#sk-container-id-1 div.sk-estimator input.sk-toggleable__control:checked~label.sk-toggleable__label {background-color: #d4ebff;}#sk-container-id-1 div.sk-label input.sk-toggleable__control:checked~label.sk-toggleable__label {background-color: #d4ebff;}#sk-container-id-1 input.sk-hidden--visually {border: 0;clip: rect(1px 1px 1px 1px);clip: rect(1px, 1px, 1px, 1px);height: 1px;margin: -1px;overflow: hidden;padding: 0;position: absolute;width: 1px;}#sk-container-id-1 div.sk-estimator {font-family: monospace;background-color: #f0f8ff;border: 1px dotted black;border-radius: 0.25em;box-sizing: border-box;margin-bottom: 0.5em;}#sk-container-id-1 div.sk-estimator:hover {background-color: #d4ebff;}#sk-container-id-1 div.sk-parallel-item::after {content: \"\";width: 100%;border-bottom: 1px solid gray;flex-grow: 1;}#sk-container-id-1 div.sk-label:hover label.sk-toggleable__label {background-color: #d4ebff;}#sk-container-id-1 div.sk-serial::before {content: \"\";position: absolute;border-left: 1px solid gray;box-sizing: border-box;top: 0;bottom: 0;left: 50%;z-index: 0;}#sk-container-id-1 div.sk-serial {display: flex;flex-direction: column;align-items: center;background-color: white;padding-right: 0.2em;padding-left: 0.2em;position: relative;}#sk-container-id-1 div.sk-item {position: relative;z-index: 1;}#sk-container-id-1 div.sk-parallel {display: flex;align-items: stretch;justify-content: center;background-color: white;position: relative;}#sk-container-id-1 div.sk-item::before, #sk-container-id-1 div.sk-parallel-item::before {content: \"\";position: absolute;border-left: 1px solid gray;box-sizing: border-box;top: 0;bottom: 0;left: 50%;z-index: -1;}#sk-container-id-1 div.sk-parallel-item {display: flex;flex-direction: column;z-index: 1;position: relative;background-color: white;}#sk-container-id-1 div.sk-parallel-item:first-child::after {align-self: flex-end;width: 50%;}#sk-container-id-1 div.sk-parallel-item:last-child::after {align-self: flex-start;width: 50%;}#sk-container-id-1 div.sk-parallel-item:only-child::after {width: 0;}#sk-container-id-1 div.sk-dashed-wrapped {border: 1px dashed gray;margin: 0 0.4em 0.5em 0.4em;box-sizing: border-box;padding-bottom: 0.4em;background-color: white;}#sk-container-id-1 div.sk-label label {font-family: monospace;font-weight: bold;display: inline-block;line-height: 1.2em;}#sk-container-id-1 div.sk-label-container {text-align: center;}#sk-container-id-1 div.sk-container {/* jupyter's `normalize.less` sets `[hidden] { display: none; }` but bootstrap.min.css set `[hidden] { display: none !important; }` so we also need the `!important` here to be able to override the default hidden behavior on the sphinx rendered scikit-learn.org. See: https://github.com/scikit-learn/scikit-learn/issues/21755 */display: inline-block !important;position: relative;}#sk-container-id-1 div.sk-text-repr-fallback {display: none;}</style><div id=\"sk-container-id-1\" class=\"sk-top-container\"><div class=\"sk-text-repr-fallback\"><pre>LinearRegression()</pre><b>In a Jupyter environment, please rerun this cell to show the HTML representation or trust the notebook. <br />On GitHub, the HTML representation is unable to render, please try loading this page with nbviewer.org.</b></div><div class=\"sk-container\" hidden><div class=\"sk-item\"><div class=\"sk-estimator sk-toggleable\"><input class=\"sk-toggleable__control sk-hidden--visually\" id=\"sk-estimator-id-1\" type=\"checkbox\" checked><label for=\"sk-estimator-id-1\" class=\"sk-toggleable__label sk-toggleable__label-arrow\">LinearRegression</label><div class=\"sk-toggleable__content\"><pre>LinearRegression()</pre></div></div></div></div></div>"
      ],
      "text/plain": [
       "LinearRegression()"
      ]
     },
     "execution_count": 6,
     "metadata": {},
     "output_type": "execute_result"
    }
   ],
   "source": [
    "lr.fit(X_train, y_train)"
   ]
  },
  {
   "cell_type": "code",
   "execution_count": 7,
   "metadata": {},
   "outputs": [
    {
     "data": {
      "text/plain": [
       "0.5786230929992499"
      ]
     },
     "execution_count": 7,
     "metadata": {},
     "output_type": "execute_result"
    }
   ],
   "source": [
    "lr.score(X_test, y_test)"
   ]
  },
  {
   "cell_type": "code",
   "execution_count": 8,
   "metadata": {},
   "outputs": [
    {
     "data": {
      "image/png": "[encoded data removed]",
      "text/plain": [
       "<Figure size 640x480 with 1 Axes>"
      ]
     },
     "metadata": {
      "image/png": {
       "height": 460,
       "width": 644
      }
     },
     "output_type": "display_data"
    }
   ],
   "source": [
    "y_hat = lr.predict(X_test)\n",
    "\n",
    "joint_df = pd.DataFrame({\"actual\": y_test,\n",
    "                      \"prediction\": y_hat})\n",
    "plt.scatter(data = joint_df, x=\"prediction\", y = \"actual\", s=100);\n",
    "plt.xlabel('Prediction')\n",
    "plt.ylabel('Actual');"
   ]
  },
  {
   "cell_type": "markdown",
   "metadata": {},
   "source": [
    "### 3) Try 70-30 and 90-10.\n",
    "\n",
    "- Score and plot.  \n",
    "- How do your metrics change?"
   ]
  },
  {
   "cell_type": "code",
   "execution_count": 9,
   "metadata": {
    "collapsed": true
   },
   "outputs": [],
   "source": [
    "# 70-30\n",
    "X_train, X_test, y_train, y_test = train_test_split(X[predictors], y, train_size=0.7, random_state=2)"
   ]
  },
  {
   "cell_type": "code",
   "execution_count": 10,
   "metadata": {},
   "outputs": [],
   "source": [
    "# instantiate\n",
    "lr2 = LinearRegression()"
   ]
  },
  {
   "cell_type": "code",
   "execution_count": 11,
   "metadata": {},
   "outputs": [
    {
     "data": {
      "text/html": [
       "<style>#sk-container-id-2 {color: black;background-color: white;}#sk-container-id-2 pre{padding: 0;}#sk-container-id-2 div.sk-toggleable {background-color: white;}#sk-container-id-2 label.sk-toggleable__label {cursor: pointer;display: block;width: 100%;margin-bottom: 0;padding: 0.3em;box-sizing: border-box;text-align: center;}#sk-container-id-2 label.sk-toggleable__label-arrow:before {content: \"▸\";float: left;margin-right: 0.25em;color: #696969;}#sk-container-id-2 label.sk-toggleable__label-arrow:hover:before {color: black;}#sk-container-id-2 div.sk-estimator:hover label.sk-toggleable__label-arrow:before {color: black;}#sk-container-id-2 div.sk-toggleable__content {max-height: 0;max-width: 0;overflow: hidden;text-align: left;background-color: #f0f8ff;}#sk-container-id-2 div.sk-toggleable__content pre {margin: 0.2em;color: black;border-radius: 0.25em;background-color: #f0f8ff;}#sk-container-id-2 input.sk-toggleable__control:checked~div.sk-toggleable__content {max-height: 200px;max-width: 100%;overflow: auto;}#sk-container-id-2 input.sk-toggleable__control:checked~label.sk-toggleable__label-arrow:before {content: \"▾\";}#sk-container-id-2 div.sk-estimator input.sk-toggleable__control:checked~label.sk-toggleable__label {background-color: #d4ebff;}#sk-container-id-2 div.sk-label input.sk-toggleable__control:checked~label.sk-toggleable__label {background-color: #d4ebff;}#sk-container-id-2 input.sk-hidden--visually {border: 0;clip: rect(1px 1px 1px 1px);clip: rect(1px, 1px, 1px, 1px);height: 1px;margin: -1px;overflow: hidden;padding: 0;position: absolute;width: 1px;}#sk-container-id-2 div.sk-estimator {font-family: monospace;background-color: #f0f8ff;border: 1px dotted black;border-radius: 0.25em;box-sizing: border-box;margin-bottom: 0.5em;}#sk-container-id-2 div.sk-estimator:hover {background-color: #d4ebff;}#sk-container-id-2 div.sk-parallel-item::after {content: \"\";width: 100%;border-bottom: 1px solid gray;flex-grow: 1;}#sk-container-id-2 div.sk-label:hover label.sk-toggleable__label {background-color: #d4ebff;}#sk-container-id-2 div.sk-serial::before {content: \"\";position: absolute;border-left: 1px solid gray;box-sizing: border-box;top: 0;bottom: 0;left: 50%;z-index: 0;}#sk-container-id-2 div.sk-serial {display: flex;flex-direction: column;align-items: center;background-color: white;padding-right: 0.2em;padding-left: 0.2em;position: relative;}#sk-container-id-2 div.sk-item {position: relative;z-index: 1;}#sk-container-id-2 div.sk-parallel {display: flex;align-items: stretch;justify-content: center;background-color: white;position: relative;}#sk-container-id-2 div.sk-item::before, #sk-container-id-2 div.sk-parallel-item::before {content: \"\";position: absolute;border-left: 1px solid gray;box-sizing: border-box;top: 0;bottom: 0;left: 50%;z-index: -1;}#sk-container-id-2 div.sk-parallel-item {display: flex;flex-direction: column;z-index: 1;position: relative;background-color: white;}#sk-container-id-2 div.sk-parallel-item:first-child::after {align-self: flex-end;width: 50%;}#sk-container-id-2 div.sk-parallel-item:last-child::after {align-self: flex-start;width: 50%;}#sk-container-id-2 div.sk-parallel-item:only-child::after {width: 0;}#sk-container-id-2 div.sk-dashed-wrapped {border: 1px dashed gray;margin: 0 0.4em 0.5em 0.4em;box-sizing: border-box;padding-bottom: 0.4em;background-color: white;}#sk-container-id-2 div.sk-label label {font-family: monospace;font-weight: bold;display: inline-block;line-height: 1.2em;}#sk-container-id-2 div.sk-label-container {text-align: center;}#sk-container-id-2 div.sk-container {/* jupyter's `normalize.less` sets `[hidden] { display: none; }` but bootstrap.min.css set `[hidden] { display: none !important; }` so we also need the `!important` here to be able to override the default hidden behavior on the sphinx rendered scikit-learn.org. See: https://github.com/scikit-learn/scikit-learn/issues/21755 */display: inline-block !important;position: relative;}#sk-container-id-2 div.sk-text-repr-fallback {display: none;}</style><div id=\"sk-container-id-2\" class=\"sk-top-container\"><div class=\"sk-text-repr-fallback\"><pre>LinearRegression()</pre><b>In a Jupyter environment, please rerun this cell to show the HTML representation or trust the notebook. <br />On GitHub, the HTML representation is unable to render, please try loading this page with nbviewer.org.</b></div><div class=\"sk-container\" hidden><div class=\"sk-item\"><div class=\"sk-estimator sk-toggleable\"><input class=\"sk-toggleable__control sk-hidden--visually\" id=\"sk-estimator-id-2\" type=\"checkbox\" checked><label for=\"sk-estimator-id-2\" class=\"sk-toggleable__label sk-toggleable__label-arrow\">LinearRegression</label><div class=\"sk-toggleable__content\"><pre>LinearRegression()</pre></div></div></div></div></div>"
      ],
      "text/plain": [
       "LinearRegression()"
      ]
     },
     "execution_count": 11,
     "metadata": {},
     "output_type": "execute_result"
    }
   ],
   "source": [
    "lr2.fit(X_train, y_train)"
   ]
  },
  {
   "cell_type": "code",
   "execution_count": 12,
   "metadata": {},
   "outputs": [
    {
     "data": {
      "text/plain": [
       "0.6358116516261368"
      ]
     },
     "execution_count": 12,
     "metadata": {},
     "output_type": "execute_result"
    }
   ],
   "source": [
    "lr2.score(X_test, y_test)"
   ]
  },
  {
   "cell_type": "code",
   "execution_count": 13,
   "metadata": {},
   "outputs": [
    {
     "data": {
      "image/png": "[encoded data removed]",
      "text/plain": [
       "<Figure size 640x480 with 1 Axes>"
      ]
     },
     "metadata": {
      "image/png": {
       "height": 460,
       "width": 641
      }
     },
     "output_type": "display_data"
    }
   ],
   "source": [
    "y_hat = lr2.predict(X_test)\n",
    "\n",
    "joint_df = pd.DataFrame({\"actual\": y_test,\n",
    "                      \"prediction\": y_hat})\n",
    "plt.scatter(data = joint_df, x=\"prediction\", y = \"actual\", s=100);\n",
    "plt.xlabel('Prediction')\n",
    "plt.ylabel('Actual');"
   ]
  },
  {
   "cell_type": "code",
   "execution_count": 14,
   "metadata": {},
   "outputs": [],
   "source": [
    "# 90-10\n",
    "X_train, X_test, y_train, y_test = train_test_split(X[predictors], y, train_size=0.9, random_state=2)"
   ]
  },
  {
   "cell_type": "code",
   "execution_count": 15,
   "metadata": {},
   "outputs": [],
   "source": [
    "# Instantiate\n",
    "lr3 = LinearRegression()"
   ]
  },
  {
   "cell_type": "code",
   "execution_count": 16,
   "metadata": {},
   "outputs": [
    {
     "data": {
      "text/html": [
       "<style>#sk-container-id-3 {color: black;background-color: white;}#sk-container-id-3 pre{padding: 0;}#sk-container-id-3 div.sk-toggleable {background-color: white;}#sk-container-id-3 label.sk-toggleable__label {cursor: pointer;display: block;width: 100%;margin-bottom: 0;padding: 0.3em;box-sizing: border-box;text-align: center;}#sk-container-id-3 label.sk-toggleable__label-arrow:before {content: \"▸\";float: left;margin-right: 0.25em;color: #696969;}#sk-container-id-3 label.sk-toggleable__label-arrow:hover:before {color: black;}#sk-container-id-3 div.sk-estimator:hover label.sk-toggleable__label-arrow:before {color: black;}#sk-container-id-3 div.sk-toggleable__content {max-height: 0;max-width: 0;overflow: hidden;text-align: left;background-color: #f0f8ff;}#sk-container-id-3 div.sk-toggleable__content pre {margin: 0.2em;color: black;border-radius: 0.25em;background-color: #f0f8ff;}#sk-container-id-3 input.sk-toggleable__control:checked~div.sk-toggleable__content {max-height: 200px;max-width: 100%;overflow: auto;}#sk-container-id-3 input.sk-toggleable__control:checked~label.sk-toggleable__label-arrow:before {content: \"▾\";}#sk-container-id-3 div.sk-estimator input.sk-toggleable__control:checked~label.sk-toggleable__label {background-color: #d4ebff;}#sk-container-id-3 div.sk-label input.sk-toggleable__control:checked~label.sk-toggleable__label {background-color: #d4ebff;}#sk-container-id-3 input.sk-hidden--visually {border: 0;clip: rect(1px 1px 1px 1px);clip: rect(1px, 1px, 1px, 1px);height: 1px;margin: -1px;overflow: hidden;padding: 0;position: absolute;width: 1px;}#sk-container-id-3 div.sk-estimator {font-family: monospace;background-color: #f0f8ff;border: 1px dotted black;border-radius: 0.25em;box-sizing: border-box;margin-bottom: 0.5em;}#sk-container-id-3 div.sk-estimator:hover {background-color: #d4ebff;}#sk-container-id-3 div.sk-parallel-item::after {content: \"\";width: 100%;border-bottom: 1px solid gray;flex-grow: 1;}#sk-container-id-3 div.sk-label:hover label.sk-toggleable__label {background-color: #d4ebff;}#sk-container-id-3 div.sk-serial::before {content: \"\";position: absolute;border-left: 1px solid gray;box-sizing: border-box;top: 0;bottom: 0;left: 50%;z-index: 0;}#sk-container-id-3 div.sk-serial {display: flex;flex-direction: column;align-items: center;background-color: white;padding-right: 0.2em;padding-left: 0.2em;position: relative;}#sk-container-id-3 div.sk-item {position: relative;z-index: 1;}#sk-container-id-3 div.sk-parallel {display: flex;align-items: stretch;justify-content: center;background-color: white;position: relative;}#sk-container-id-3 div.sk-item::before, #sk-container-id-3 div.sk-parallel-item::before {content: \"\";position: absolute;border-left: 1px solid gray;box-sizing: border-box;top: 0;bottom: 0;left: 50%;z-index: -1;}#sk-container-id-3 div.sk-parallel-item {display: flex;flex-direction: column;z-index: 1;position: relative;background-color: white;}#sk-container-id-3 div.sk-parallel-item:first-child::after {align-self: flex-end;width: 50%;}#sk-container-id-3 div.sk-parallel-item:last-child::after {align-self: flex-start;width: 50%;}#sk-container-id-3 div.sk-parallel-item:only-child::after {width: 0;}#sk-container-id-3 div.sk-dashed-wrapped {border: 1px dashed gray;margin: 0 0.4em 0.5em 0.4em;box-sizing: border-box;padding-bottom: 0.4em;background-color: white;}#sk-container-id-3 div.sk-label label {font-family: monospace;font-weight: bold;display: inline-block;line-height: 1.2em;}#sk-container-id-3 div.sk-label-container {text-align: center;}#sk-container-id-3 div.sk-container {/* jupyter's `normalize.less` sets `[hidden] { display: none; }` but bootstrap.min.css set `[hidden] { display: none !important; }` so we also need the `!important` here to be able to override the default hidden behavior on the sphinx rendered scikit-learn.org. See: https://github.com/scikit-learn/scikit-learn/issues/21755 */display: inline-block !important;position: relative;}#sk-container-id-3 div.sk-text-repr-fallback {display: none;}</style><div id=\"sk-container-id-3\" class=\"sk-top-container\"><div class=\"sk-text-repr-fallback\"><pre>LinearRegression()</pre><b>In a Jupyter environment, please rerun this cell to show the HTML representation or trust the notebook. <br />On GitHub, the HTML representation is unable to render, please try loading this page with nbviewer.org.</b></div><div class=\"sk-container\" hidden><div class=\"sk-item\"><div class=\"sk-estimator sk-toggleable\"><input class=\"sk-toggleable__control sk-hidden--visually\" id=\"sk-estimator-id-3\" type=\"checkbox\" checked><label for=\"sk-estimator-id-3\" class=\"sk-toggleable__label sk-toggleable__label-arrow\">LinearRegression</label><div class=\"sk-toggleable__content\"><pre>LinearRegression()</pre></div></div></div></div></div>"
      ],
      "text/plain": [
       "LinearRegression()"
      ]
     },
     "execution_count": 16,
     "metadata": {},
     "output_type": "execute_result"
    }
   ],
   "source": [
    "lr3.fit(X_train, y_train)"
   ]
  },
  {
   "cell_type": "code",
   "execution_count": 17,
   "metadata": {},
   "outputs": [
    {
     "data": {
      "text/plain": [
       "0.622883371959682"
      ]
     },
     "execution_count": 17,
     "metadata": {},
     "output_type": "execute_result"
    }
   ],
   "source": [
    "lr3.score(X_test, y_test)"
   ]
  },
  {
   "cell_type": "code",
   "execution_count": 18,
   "metadata": {},
   "outputs": [
    {
     "data": {
      "image/png": "[encoded data removed]",
      "text/plain": [
       "<Figure size 640x480 with 1 Axes>"
      ]
     },
     "metadata": {
      "image/png": {
       "height": 460,
       "width": 634
      }
     },
     "output_type": "display_data"
    }
   ],
   "source": [
    "y_hat = lr3.predict(X_test)\n",
    "\n",
    "joint_df = pd.DataFrame({\"actual\": y_test,\n",
    "                      \"prediction\": y_hat})\n",
    "plt.scatter(data = joint_df, x=\"prediction\", y = \"actual\", s=100);\n",
    "plt.xlabel('Prediction')\n",
    "plt.ylabel('Actual');"
   ]
  },
  {
   "cell_type": "markdown",
   "metadata": {},
   "source": [
    "### 4) Try k-folds cross-validation with k between 5–10 for your regression. \n",
    "\n",
    "- What seems optimal? \n",
    "- How do your scores change?  \n",
    "- What is the variance of scores like?\n",
    "- Try out different folds to get a sense of how this impacts your score."
   ]
  },
  {
   "cell_type": "code",
   "execution_count": 19,
   "metadata": {
    "collapsed": true
   },
   "outputs": [
    {
     "name": "stdout",
     "output_type": "stream",
     "text": [
      "[ 0.57553367  0.6169544   0.57152954 -0.08348858 -0.95084971]\n"
     ]
    },
    {
     "data": {
      "text/plain": [
       "0.36862337893176356"
      ]
     },
     "execution_count": 19,
     "metadata": {},
     "output_type": "execute_result"
    }
   ],
   "source": [
    "# cv = 5\n",
    "model = LinearRegression()\n",
    "print(cross_val_score(model, X[predictors], y, cv=5))\n",
    "np.var(cross_val_score(model, X[predictors], y, cv=5))"
   ]
  },
  {
   "cell_type": "code",
   "execution_count": 20,
   "metadata": {},
   "outputs": [
    {
     "name": "stdout",
     "output_type": "stream",
     "text": [
      "[ 0.48474574  0.51715477  0.59261437  0.73384569 -0.92269337 -0.85539552]\n"
     ]
    },
    {
     "data": {
      "text/plain": [
       "0.48745780320469834"
      ]
     },
     "execution_count": 20,
     "metadata": {},
     "output_type": "execute_result"
    }
   ],
   "source": [
    "# cv = 6\n",
    "model2 = LinearRegression()\n",
    "print(cross_val_score(model2, X[predictors], y, cv=6))\n",
    "np.var(cross_val_score(model2, X[predictors], y, cv=6))"
   ]
  },
  {
   "cell_type": "code",
   "execution_count": 21,
   "metadata": {},
   "outputs": [
    {
     "name": "stdout",
     "output_type": "stream",
     "text": [
      "[ 0.49158293  0.70241375  0.47098711  0.57870638  0.42775801 -1.3791507\n",
      " -0.49932253]\n"
     ]
    },
    {
     "data": {
      "text/plain": [
       "0.5051850647469527"
      ]
     },
     "execution_count": 21,
     "metadata": {},
     "output_type": "execute_result"
    }
   ],
   "source": [
    "# cv = 7\n",
    "model3 = LinearRegression()\n",
    "print(cross_val_score(model3, X[predictors], y, cv=7))\n",
    "np.var(cross_val_score(model3, X[predictors], y, cv=7))"
   ]
  },
  {
   "cell_type": "code",
   "execution_count": 22,
   "metadata": {},
   "outputs": [
    {
     "name": "stdout",
     "output_type": "stream",
     "text": [
      "[ 0.47323776  0.69809932  0.56792171  0.72122996  0.6840184  -0.70911102\n",
      " -1.68283222 -0.37740745]\n"
     ]
    },
    {
     "data": {
      "text/plain": [
       "0.6851864802489902"
      ]
     },
     "execution_count": 22,
     "metadata": {},
     "output_type": "execute_result"
    }
   ],
   "source": [
    "# cv = 8\n",
    "model4 = LinearRegression()\n",
    "print(cross_val_score(model4, X[predictors], y, cv=8))\n",
    "np.var(cross_val_score(model4, X[predictors], y, cv=8))"
   ]
  },
  {
   "cell_type": "code",
   "execution_count": 23,
   "metadata": {},
   "outputs": [
    {
     "name": "stdout",
     "output_type": "stream",
     "text": [
      "[ 0.49180663  0.68670961  0.46455033  0.58084062  0.63066195  0.72262836\n",
      " -0.35283929 -2.3312535  -0.17939624]\n"
     ]
    },
    {
     "data": {
      "text/plain": [
       "0.8579307367990894"
      ]
     },
     "execution_count": 23,
     "metadata": {},
     "output_type": "execute_result"
    }
   ],
   "source": [
    "# cv = 9\n",
    "model5 = LinearRegression()\n",
    "print(cross_val_score(model5, X[predictors], y, cv=9))\n",
    "np.var(cross_val_score(model5, X[predictors], y, cv=9))"
   ]
  },
  {
   "cell_type": "code",
   "execution_count": 24,
   "metadata": {},
   "outputs": [
    {
     "name": "stdout",
     "output_type": "stream",
     "text": [
      "[ 0.4472026   0.74113938 -0.35941536  0.34563582  0.7331542   0.5993646\n",
      "  0.21083296 -0.23062808 -3.13292195  0.30384256]\n"
     ]
    },
    {
     "data": {
      "text/plain": [
       "1.1888152125668865"
      ]
     },
     "execution_count": 24,
     "metadata": {},
     "output_type": "execute_result"
    }
   ],
   "source": [
    "# cv = 10\n",
    "model6 = LinearRegression()\n",
    "print(cross_val_score(model6, X[predictors], y, cv=10))\n",
    "np.var(cross_val_score(model6, X[predictors], y, cv=10))"
   ]
  },
  {
   "cell_type": "markdown",
   "metadata": {},
   "source": [
    "The variance increases as k increases."
   ]
  },
  {
   "cell_type": "markdown",
   "metadata": {},
   "source": [
    "### 5) [Bonus] Optimize the $R^2$ score.\n",
    "\n",
    "Can you optimize your R^2 by selecting the best features and validating the model using either train/test split or k-folds?\n",
    "\n",
    "Your code will need to iterate through the different combinations of predictors, cross-validate the current model parameterization, and determine which set of features performed best.\n",
    "\n",
    "The number of k-folds is up to you.\n",
    "\n",
    "> *Hint:* The `itertools` package is useful for combinations and permutations."
   ]
  },
  {
   "cell_type": "code",
   "execution_count": 25,
   "metadata": {
    "collapsed": true
   },
   "outputs": [],
   "source": [
    "from itertools import combinations"
   ]
  },
  {
   "cell_type": "code",
   "execution_count": 26,
   "metadata": {},
   "outputs": [],
   "source": [
    "combs = []\n",
    "for i in range(1, len(X.columns)+1):\n",
    "    for c in combinations(X.columns.tolist(), i):\n",
    "        combs.append(c)"
   ]
  },
  {
   "cell_type": "code",
   "execution_count": 27,
   "metadata": {},
   "outputs": [
    {
     "data": {
      "text/plain": [
       "[('CRIM',),\n",
       " ('ZN',),\n",
       " ('INDUS',),\n",
       " ('CHAS',),\n",
       " ('NOX',),\n",
       " ('RM',),\n",
       " ('AGE',),\n",
       " ('DIS',),\n",
       " ('RAD',),\n",
       " ('TAX',),\n",
       " ('PTRATIO',),\n",
       " ('B',),\n",
       " ('LSTAT',),\n",
       " ('CRIM', 'ZN'),\n",
       " ('CRIM', 'INDUS'),\n",
       " ('CRIM', 'CHAS'),\n",
       " ('CRIM', 'NOX'),\n",
       " ('CRIM', 'RM'),\n",
       " ('CRIM', 'AGE'),\n",
       " ('CRIM', 'DIS'),\n",
       " ('CRIM', 'RAD'),\n",
       " ('CRIM', 'TAX'),\n",
       " ('CRIM', 'PTRATIO'),\n",
       " ('CRIM', 'B'),\n",
       " ('CRIM', 'LSTAT'),\n",
       " ('ZN', 'INDUS'),\n",
       " ('ZN', 'CHAS'),\n",
       " ('ZN', 'NOX'),\n",
       " ('ZN', 'RM'),\n",
       " ('ZN', 'AGE'),\n",
       " ('ZN', 'DIS'),\n",
       " ('ZN', 'RAD'),\n",
       " ('ZN', 'TAX'),\n",
       " ('ZN', 'PTRATIO'),\n",
       " ('ZN', 'B'),\n",
       " ('ZN', 'LSTAT'),\n",
       " ('INDUS', 'CHAS'),\n",
       " ('INDUS', 'NOX'),\n",
       " ('INDUS', 'RM'),\n",
       " ('INDUS', 'AGE'),\n",
       " ('INDUS', 'DIS'),\n",
       " ('INDUS', 'RAD'),\n",
       " ('INDUS', 'TAX'),\n",
       " ('INDUS', 'PTRATIO'),\n",
       " ('INDUS', 'B'),\n",
       " ('INDUS', 'LSTAT'),\n",
       " ('CHAS', 'NOX'),\n",
       " ('CHAS', 'RM'),\n",
       " ('CHAS', 'AGE'),\n",
       " ('CHAS', 'DIS'),\n",
       " ('CHAS', 'RAD'),\n",
       " ('CHAS', 'TAX'),\n",
       " ('CHAS', 'PTRATIO'),\n",
       " ('CHAS', 'B'),\n",
       " ('CHAS', 'LSTAT'),\n",
       " ('NOX', 'RM'),\n",
       " ('NOX', 'AGE'),\n",
       " ('NOX', 'DIS'),\n",
       " ('NOX', 'RAD'),\n",
       " ('NOX', 'TAX'),\n",
       " ('NOX', 'PTRATIO'),\n",
       " ('NOX', 'B'),\n",
       " ('NOX', 'LSTAT'),\n",
       " ('RM', 'AGE'),\n",
       " ('RM', 'DIS'),\n",
       " ('RM', 'RAD'),\n",
       " ('RM', 'TAX'),\n",
       " ('RM', 'PTRATIO'),\n",
       " ('RM', 'B'),\n",
       " ('RM', 'LSTAT'),\n",
       " ('AGE', 'DIS'),\n",
       " ('AGE', 'RAD'),\n",
       " ('AGE', 'TAX'),\n",
       " ('AGE', 'PTRATIO'),\n",
       " ('AGE', 'B'),\n",
       " ('AGE', 'LSTAT'),\n",
       " ('DIS', 'RAD'),\n",
       " ('DIS', 'TAX'),\n",
       " ('DIS', 'PTRATIO'),\n",
       " ('DIS', 'B'),\n",
       " ('DIS', 'LSTAT'),\n",
       " ('RAD', 'TAX'),\n",
       " ('RAD', 'PTRATIO'),\n",
       " ('RAD', 'B'),\n",
       " ('RAD', 'LSTAT'),\n",
       " ('TAX', 'PTRATIO'),\n",
       " ('TAX', 'B'),\n",
       " ('TAX', 'LSTAT'),\n",
       " ('PTRATIO', 'B'),\n",
       " ('PTRATIO', 'LSTAT'),\n",
       " ('B', 'LSTAT'),\n",
       " ('CRIM', 'ZN', 'INDUS'),\n",
       " ('CRIM', 'ZN', 'CHAS'),\n",
       " ('CRIM', 'ZN', 'NOX'),\n",
       " ('CRIM', 'ZN', 'RM'),\n",
       " ('CRIM', 'ZN', 'AGE'),\n",
       " ('CRIM', 'ZN', 'DIS'),\n",
       " ('CRIM', 'ZN', 'RAD'),\n",
       " ('CRIM', 'ZN', 'TAX'),\n",
       " ('CRIM', 'ZN', 'PTRATIO'),\n",
       " ('CRIM', 'ZN', 'B'),\n",
       " ('CRIM', 'ZN', 'LSTAT'),\n",
       " ('CRIM', 'INDUS', 'CHAS'),\n",
       " ('CRIM', 'INDUS', 'NOX'),\n",
       " ('CRIM', 'INDUS', 'RM'),\n",
       " ('CRIM', 'INDUS', 'AGE'),\n",
       " ('CRIM', 'INDUS', 'DIS'),\n",
       " ('CRIM', 'INDUS', 'RAD'),\n",
       " ('CRIM', 'INDUS', 'TAX'),\n",
       " ('CRIM', 'INDUS', 'PTRATIO'),\n",
       " ('CRIM', 'INDUS', 'B'),\n",
       " ('CRIM', 'INDUS', 'LSTAT'),\n",
       " ('CRIM', 'CHAS', 'NOX'),\n",
       " ('CRIM', 'CHAS', 'RM'),\n",
       " ('CRIM', 'CHAS', 'AGE'),\n",
       " ('CRIM', 'CHAS', 'DIS'),\n",
       " ('CRIM', 'CHAS', 'RAD'),\n",
       " ('CRIM', 'CHAS', 'TAX'),\n",
       " ('CRIM', 'CHAS', 'PTRATIO'),\n",
       " ('CRIM', 'CHAS', 'B'),\n",
       " ('CRIM', 'CHAS', 'LSTAT'),\n",
       " ('CRIM', 'NOX', 'RM'),\n",
       " ('CRIM', 'NOX', 'AGE'),\n",
       " ('CRIM', 'NOX', 'DIS'),\n",
       " ('CRIM', 'NOX', 'RAD'),\n",
       " ('CRIM', 'NOX', 'TAX'),\n",
       " ('CRIM', 'NOX', 'PTRATIO'),\n",
       " ('CRIM', 'NOX', 'B'),\n",
       " ('CRIM', 'NOX', 'LSTAT'),\n",
       " ('CRIM', 'RM', 'AGE'),\n",
       " ('CRIM', 'RM', 'DIS'),\n",
       " ('CRIM', 'RM', 'RAD'),\n",
       " ('CRIM', 'RM', 'TAX'),\n",
       " ('CRIM', 'RM', 'PTRATIO'),\n",
       " ('CRIM', 'RM', 'B'),\n",
       " ('CRIM', 'RM', 'LSTAT'),\n",
       " ('CRIM', 'AGE', 'DIS'),\n",
       " ('CRIM', 'AGE', 'RAD'),\n",
       " ('CRIM', 'AGE', 'TAX'),\n",
       " ('CRIM', 'AGE', 'PTRATIO'),\n",
       " ('CRIM', 'AGE', 'B'),\n",
       " ('CRIM', 'AGE', 'LSTAT'),\n",
       " ('CRIM', 'DIS', 'RAD'),\n",
       " ('CRIM', 'DIS', 'TAX'),\n",
       " ('CRIM', 'DIS', 'PTRATIO'),\n",
       " ('CRIM', 'DIS', 'B'),\n",
       " ('CRIM', 'DIS', 'LSTAT'),\n",
       " ('CRIM', 'RAD', 'TAX'),\n",
       " ('CRIM', 'RAD', 'PTRATIO'),\n",
       " ('CRIM', 'RAD', 'B'),\n",
       " ('CRIM', 'RAD', 'LSTAT'),\n",
       " ('CRIM', 'TAX', 'PTRATIO'),\n",
       " ('CRIM', 'TAX', 'B'),\n",
       " ('CRIM', 'TAX', 'LSTAT'),\n",
       " ('CRIM', 'PTRATIO', 'B'),\n",
       " ('CRIM', 'PTRATIO', 'LSTAT'),\n",
       " ('CRIM', 'B', 'LSTAT'),\n",
       " ('ZN', 'INDUS', 'CHAS'),\n",
       " ('ZN', 'INDUS', 'NOX'),\n",
       " ('ZN', 'INDUS', 'RM'),\n",
       " ('ZN', 'INDUS', 'AGE'),\n",
       " ('ZN', 'INDUS', 'DIS'),\n",
       " ('ZN', 'INDUS', 'RAD'),\n",
       " ('ZN', 'INDUS', 'TAX'),\n",
       " ('ZN', 'INDUS', 'PTRATIO'),\n",
       " ('ZN', 'INDUS', 'B'),\n",
       " ('ZN', 'INDUS', 'LSTAT'),\n",
       " ('ZN', 'CHAS', 'NOX'),\n",
       " ('ZN', 'CHAS', 'RM'),\n",
       " ('ZN', 'CHAS', 'AGE'),\n",
       " ('ZN', 'CHAS', 'DIS'),\n",
       " ('ZN', 'CHAS', 'RAD'),\n",
       " ('ZN', 'CHAS', 'TAX'),\n",
       " ('ZN', 'CHAS', 'PTRATIO'),\n",
       " ('ZN', 'CHAS', 'B'),\n",
       " ('ZN', 'CHAS', 'LSTAT'),\n",
       " ('ZN', 'NOX', 'RM'),\n",
       " ('ZN', 'NOX', 'AGE'),\n",
       " ('ZN', 'NOX', 'DIS'),\n",
       " ('ZN', 'NOX', 'RAD'),\n",
       " ('ZN', 'NOX', 'TAX'),\n",
       " ('ZN', 'NOX', 'PTRATIO'),\n",
       " ('ZN', 'NOX', 'B'),\n",
       " ('ZN', 'NOX', 'LSTAT'),\n",
       " ('ZN', 'RM', 'AGE'),\n",
       " ('ZN', 'RM', 'DIS'),\n",
       " ('ZN', 'RM', 'RAD'),\n",
       " ('ZN', 'RM', 'TAX'),\n",
       " ('ZN', 'RM', 'PTRATIO'),\n",
       " ('ZN', 'RM', 'B'),\n",
       " ('ZN', 'RM', 'LSTAT'),\n",
       " ('ZN', 'AGE', 'DIS'),\n",
       " ('ZN', 'AGE', 'RAD'),\n",
       " ('ZN', 'AGE', 'TAX'),\n",
       " ('ZN', 'AGE', 'PTRATIO'),\n",
       " ('ZN', 'AGE', 'B'),\n",
       " ('ZN', 'AGE', 'LSTAT'),\n",
       " ('ZN', 'DIS', 'RAD'),\n",
       " ('ZN', 'DIS', 'TAX'),\n",
       " ('ZN', 'DIS', 'PTRATIO'),\n",
       " ('ZN', 'DIS', 'B'),\n",
       " ('ZN', 'DIS', 'LSTAT'),\n",
       " ('ZN', 'RAD', 'TAX'),\n",
       " ('ZN', 'RAD', 'PTRATIO'),\n",
       " ('ZN', 'RAD', 'B'),\n",
       " ('ZN', 'RAD', 'LSTAT'),\n",
       " ('ZN', 'TAX', 'PTRATIO'),\n",
       " ('ZN', 'TAX', 'B'),\n",
       " ('ZN', 'TAX', 'LSTAT'),\n",
       " ('ZN', 'PTRATIO', 'B'),\n",
       " ('ZN', 'PTRATIO', 'LSTAT'),\n",
       " ('ZN', 'B', 'LSTAT'),\n",
       " ('INDUS', 'CHAS', 'NOX'),\n",
       " ('INDUS', 'CHAS', 'RM'),\n",
       " ('INDUS', 'CHAS', 'AGE'),\n",
       " ('INDUS', 'CHAS', 'DIS'),\n",
       " ('INDUS', 'CHAS', 'RAD'),\n",
       " ('INDUS', 'CHAS', 'TAX'),\n",
       " ('INDUS', 'CHAS', 'PTRATIO'),\n",
       " ('INDUS', 'CHAS', 'B'),\n",
       " ('INDUS', 'CHAS', 'LSTAT'),\n",
       " ('INDUS', 'NOX', 'RM'),\n",
       " ('INDUS', 'NOX', 'AGE'),\n",
       " ('INDUS', 'NOX', 'DIS'),\n",
       " ('INDUS', 'NOX', 'RAD'),\n",
       " ('INDUS', 'NOX', 'TAX'),\n",
       " ('INDUS', 'NOX', 'PTRATIO'),\n",
       " ('INDUS', 'NOX', 'B'),\n",
       " ('INDUS', 'NOX', 'LSTAT'),\n",
       " ('INDUS', 'RM', 'AGE'),\n",
       " ('INDUS', 'RM', 'DIS'),\n",
       " ('INDUS', 'RM', 'RAD'),\n",
       " ('INDUS', 'RM', 'TAX'),\n",
       " ('INDUS', 'RM', 'PTRATIO'),\n",
       " ('INDUS', 'RM', 'B'),\n",
       " ('INDUS', 'RM', 'LSTAT'),\n",
       " ('INDUS', 'AGE', 'DIS'),\n",
       " ('INDUS', 'AGE', 'RAD'),\n",
       " ('INDUS', 'AGE', 'TAX'),\n",
       " ('INDUS', 'AGE', 'PTRATIO'),\n",
       " ('INDUS', 'AGE', 'B'),\n",
       " ('INDUS', 'AGE', 'LSTAT'),\n",
       " ('INDUS', 'DIS', 'RAD'),\n",
       " ('INDUS', 'DIS', 'TAX'),\n",
       " ('INDUS', 'DIS', 'PTRATIO'),\n",
       " ('INDUS', 'DIS', 'B'),\n",
       " ('INDUS', 'DIS', 'LSTAT'),\n",
       " ('INDUS', 'RAD', 'TAX'),\n",
       " ('INDUS', 'RAD', 'PTRATIO'),\n",
       " ('INDUS', 'RAD', 'B'),\n",
       " ('INDUS', 'RAD', 'LSTAT'),\n",
       " ('INDUS', 'TAX', 'PTRATIO'),\n",
       " ('INDUS', 'TAX', 'B'),\n",
       " ('INDUS', 'TAX', 'LSTAT'),\n",
       " ('INDUS', 'PTRATIO', 'B'),\n",
       " ('INDUS', 'PTRATIO', 'LSTAT'),\n",
       " ('INDUS', 'B', 'LSTAT'),\n",
       " ('CHAS', 'NOX', 'RM'),\n",
       " ('CHAS', 'NOX', 'AGE'),\n",
       " ('CHAS', 'NOX', 'DIS'),\n",
       " ('CHAS', 'NOX', 'RAD'),\n",
       " ('CHAS', 'NOX', 'TAX'),\n",
       " ('CHAS', 'NOX', 'PTRATIO'),\n",
       " ('CHAS', 'NOX', 'B'),\n",
       " ('CHAS', 'NOX', 'LSTAT'),\n",
       " ('CHAS', 'RM', 'AGE'),\n",
       " ('CHAS', 'RM', 'DIS'),\n",
       " ('CHAS', 'RM', 'RAD'),\n",
       " ('CHAS', 'RM', 'TAX'),\n",
       " ('CHAS', 'RM', 'PTRATIO'),\n",
       " ('CHAS', 'RM', 'B'),\n",
       " ('CHAS', 'RM', 'LSTAT'),\n",
       " ('CHAS', 'AGE', 'DIS'),\n",
       " ('CHAS', 'AGE', 'RAD'),\n",
       " ('CHAS', 'AGE', 'TAX'),\n",
       " ('CHAS', 'AGE', 'PTRATIO'),\n",
       " ('CHAS', 'AGE', 'B'),\n",
       " ('CHAS', 'AGE', 'LSTAT'),\n",
       " ('CHAS', 'DIS', 'RAD'),\n",
       " ('CHAS', 'DIS', 'TAX'),\n",
       " ('CHAS', 'DIS', 'PTRATIO'),\n",
       " ('CHAS', 'DIS', 'B'),\n",
       " ('CHAS', 'DIS', 'LSTAT'),\n",
       " ('CHAS', 'RAD', 'TAX'),\n",
       " ('CHAS', 'RAD', 'PTRATIO'),\n",
       " ('CHAS', 'RAD', 'B'),\n",
       " ('CHAS', 'RAD', 'LSTAT'),\n",
       " ('CHAS', 'TAX', 'PTRATIO'),\n",
       " ('CHAS', 'TAX', 'B'),\n",
       " ('CHAS', 'TAX', 'LSTAT'),\n",
       " ('CHAS', 'PTRATIO', 'B'),\n",
       " ('CHAS', 'PTRATIO', 'LSTAT'),\n",
       " ('CHAS', 'B', 'LSTAT'),\n",
       " ('NOX', 'RM', 'AGE'),\n",
       " ('NOX', 'RM', 'DIS'),\n",
       " ('NOX', 'RM', 'RAD'),\n",
       " ('NOX', 'RM', 'TAX'),\n",
       " ('NOX', 'RM', 'PTRATIO'),\n",
       " ('NOX', 'RM', 'B'),\n",
       " ('NOX', 'RM', 'LSTAT'),\n",
       " ('NOX', 'AGE', 'DIS'),\n",
       " ('NOX', 'AGE', 'RAD'),\n",
       " ('NOX', 'AGE', 'TAX'),\n",
       " ('NOX', 'AGE', 'PTRATIO'),\n",
       " ('NOX', 'AGE', 'B'),\n",
       " ('NOX', 'AGE', 'LSTAT'),\n",
       " ('NOX', 'DIS', 'RAD'),\n",
       " ('NOX', 'DIS', 'TAX'),\n",
       " ('NOX', 'DIS', 'PTRATIO'),\n",
       " ('NOX', 'DIS', 'B'),\n",
       " ('NOX', 'DIS', 'LSTAT'),\n",
       " ('NOX', 'RAD', 'TAX'),\n",
       " ('NOX', 'RAD', 'PTRATIO'),\n",
       " ('NOX', 'RAD', 'B'),\n",
       " ('NOX', 'RAD', 'LSTAT'),\n",
       " ('NOX', 'TAX', 'PTRATIO'),\n",
       " ('NOX', 'TAX', 'B'),\n",
       " ('NOX', 'TAX', 'LSTAT'),\n",
       " ('NOX', 'PTRATIO', 'B'),\n",
       " ('NOX', 'PTRATIO', 'LSTAT'),\n",
       " ('NOX', 'B', 'LSTAT'),\n",
       " ('RM', 'AGE', 'DIS'),\n",
       " ('RM', 'AGE', 'RAD'),\n",
       " ('RM', 'AGE', 'TAX'),\n",
       " ('RM', 'AGE', 'PTRATIO'),\n",
       " ('RM', 'AGE', 'B'),\n",
       " ('RM', 'AGE', 'LSTAT'),\n",
       " ('RM', 'DIS', 'RAD'),\n",
       " ('RM', 'DIS', 'TAX'),\n",
       " ('RM', 'DIS', 'PTRATIO'),\n",
       " ('RM', 'DIS', 'B'),\n",
       " ('RM', 'DIS', 'LSTAT'),\n",
       " ('RM', 'RAD', 'TAX'),\n",
       " ('RM', 'RAD', 'PTRATIO'),\n",
       " ('RM', 'RAD', 'B'),\n",
       " ('RM', 'RAD', 'LSTAT'),\n",
       " ('RM', 'TAX', 'PTRATIO'),\n",
       " ('RM', 'TAX', 'B'),\n",
       " ('RM', 'TAX', 'LSTAT'),\n",
       " ('RM', 'PTRATIO', 'B'),\n",
       " ('RM', 'PTRATIO', 'LSTAT'),\n",
       " ('RM', 'B', 'LSTAT'),\n",
       " ('AGE', 'DIS', 'RAD'),\n",
       " ('AGE', 'DIS', 'TAX'),\n",
       " ('AGE', 'DIS', 'PTRATIO'),\n",
       " ('AGE', 'DIS', 'B'),\n",
       " ('AGE', 'DIS', 'LSTAT'),\n",
       " ('AGE', 'RAD', 'TAX'),\n",
       " ('AGE', 'RAD', 'PTRATIO'),\n",
       " ('AGE', 'RAD', 'B'),\n",
       " ('AGE', 'RAD', 'LSTAT'),\n",
       " ('AGE', 'TAX', 'PTRATIO'),\n",
       " ('AGE', 'TAX', 'B'),\n",
       " ('AGE', 'TAX', 'LSTAT'),\n",
       " ('AGE', 'PTRATIO', 'B'),\n",
       " ('AGE', 'PTRATIO', 'LSTAT'),\n",
       " ('AGE', 'B', 'LSTAT'),\n",
       " ('DIS', 'RAD', 'TAX'),\n",
       " ('DIS', 'RAD', 'PTRATIO'),\n",
       " ('DIS', 'RAD', 'B'),\n",
       " ('DIS', 'RAD', 'LSTAT'),\n",
       " ('DIS', 'TAX', 'PTRATIO'),\n",
       " ('DIS', 'TAX', 'B'),\n",
       " ('DIS', 'TAX', 'LSTAT'),\n",
       " ('DIS', 'PTRATIO', 'B'),\n",
       " ('DIS', 'PTRATIO', 'LSTAT'),\n",
       " ('DIS', 'B', 'LSTAT'),\n",
       " ('RAD', 'TAX', 'PTRATIO'),\n",
       " ('RAD', 'TAX', 'B'),\n",
       " ('RAD', 'TAX', 'LSTAT'),\n",
       " ('RAD', 'PTRATIO', 'B'),\n",
       " ('RAD', 'PTRATIO', 'LSTAT'),\n",
       " ('RAD', 'B', 'LSTAT'),\n",
       " ('TAX', 'PTRATIO', 'B'),\n",
       " ('TAX', 'PTRATIO', 'LSTAT'),\n",
       " ('TAX', 'B', 'LSTAT'),\n",
       " ('PTRATIO', 'B', 'LSTAT'),\n",
       " ('CRIM', 'ZN', 'INDUS', 'CHAS'),\n",
       " ('CRIM', 'ZN', 'INDUS', 'NOX'),\n",
       " ('CRIM', 'ZN', 'INDUS', 'RM'),\n",
       " ('CRIM', 'ZN', 'INDUS', 'AGE'),\n",
       " ('CRIM', 'ZN', 'INDUS', 'DIS'),\n",
       " ('CRIM', 'ZN', 'INDUS', 'RAD'),\n",
       " ('CRIM', 'ZN', 'INDUS', 'TAX'),\n",
       " ('CRIM', 'ZN', 'INDUS', 'PTRATIO'),\n",
       " ('CRIM', 'ZN', 'INDUS', 'B'),\n",
       " ('CRIM', 'ZN', 'INDUS', 'LSTAT'),\n",
       " ('CRIM', 'ZN', 'CHAS', 'NOX'),\n",
       " ('CRIM', 'ZN', 'CHAS', 'RM'),\n",
       " ('CRIM', 'ZN', 'CHAS', 'AGE'),\n",
       " ('CRIM', 'ZN', 'CHAS', 'DIS'),\n",
       " ('CRIM', 'ZN', 'CHAS', 'RAD'),\n",
       " ('CRIM', 'ZN', 'CHAS', 'TAX'),\n",
       " ('CRIM', 'ZN', 'CHAS', 'PTRATIO'),\n",
       " ('CRIM', 'ZN', 'CHAS', 'B'),\n",
       " ('CRIM', 'ZN', 'CHAS', 'LSTAT'),\n",
       " ('CRIM', 'ZN', 'NOX', 'RM'),\n",
       " ('CRIM', 'ZN', 'NOX', 'AGE'),\n",
       " ('CRIM', 'ZN', 'NOX', 'DIS'),\n",
       " ('CRIM', 'ZN', 'NOX', 'RAD'),\n",
       " ('CRIM', 'ZN', 'NOX', 'TAX'),\n",
       " ('CRIM', 'ZN', 'NOX', 'PTRATIO'),\n",
       " ('CRIM', 'ZN', 'NOX', 'B'),\n",
       " ('CRIM', 'ZN', 'NOX', 'LSTAT'),\n",
       " ('CRIM', 'ZN', 'RM', 'AGE'),\n",
       " ('CRIM', 'ZN', 'RM', 'DIS'),\n",
       " ('CRIM', 'ZN', 'RM', 'RAD'),\n",
       " ('CRIM', 'ZN', 'RM', 'TAX'),\n",
       " ('CRIM', 'ZN', 'RM', 'PTRATIO'),\n",
       " ('CRIM', 'ZN', 'RM', 'B'),\n",
       " ('CRIM', 'ZN', 'RM', 'LSTAT'),\n",
       " ('CRIM', 'ZN', 'AGE', 'DIS'),\n",
       " ('CRIM', 'ZN', 'AGE', 'RAD'),\n",
       " ('CRIM', 'ZN', 'AGE', 'TAX'),\n",
       " ('CRIM', 'ZN', 'AGE', 'PTRATIO'),\n",
       " ('CRIM', 'ZN', 'AGE', 'B'),\n",
       " ('CRIM', 'ZN', 'AGE', 'LSTAT'),\n",
       " ('CRIM', 'ZN', 'DIS', 'RAD'),\n",
       " ('CRIM', 'ZN', 'DIS', 'TAX'),\n",
       " ('CRIM', 'ZN', 'DIS', 'PTRATIO'),\n",
       " ('CRIM', 'ZN', 'DIS', 'B'),\n",
       " ('CRIM', 'ZN', 'DIS', 'LSTAT'),\n",
       " ('CRIM', 'ZN', 'RAD', 'TAX'),\n",
       " ('CRIM', 'ZN', 'RAD', 'PTRATIO'),\n",
       " ('CRIM', 'ZN', 'RAD', 'B'),\n",
       " ('CRIM', 'ZN', 'RAD', 'LSTAT'),\n",
       " ('CRIM', 'ZN', 'TAX', 'PTRATIO'),\n",
       " ('CRIM', 'ZN', 'TAX', 'B'),\n",
       " ('CRIM', 'ZN', 'TAX', 'LSTAT'),\n",
       " ('CRIM', 'ZN', 'PTRATIO', 'B'),\n",
       " ('CRIM', 'ZN', 'PTRATIO', 'LSTAT'),\n",
       " ('CRIM', 'ZN', 'B', 'LSTAT'),\n",
       " ('CRIM', 'INDUS', 'CHAS', 'NOX'),\n",
       " ('CRIM', 'INDUS', 'CHAS', 'RM'),\n",
       " ('CRIM', 'INDUS', 'CHAS', 'AGE'),\n",
       " ('CRIM', 'INDUS', 'CHAS', 'DIS'),\n",
       " ('CRIM', 'INDUS', 'CHAS', 'RAD'),\n",
       " ('CRIM', 'INDUS', 'CHAS', 'TAX'),\n",
       " ('CRIM', 'INDUS', 'CHAS', 'PTRATIO'),\n",
       " ('CRIM', 'INDUS', 'CHAS', 'B'),\n",
       " ('CRIM', 'INDUS', 'CHAS', 'LSTAT'),\n",
       " ('CRIM', 'INDUS', 'NOX', 'RM'),\n",
       " ('CRIM', 'INDUS', 'NOX', 'AGE'),\n",
       " ('CRIM', 'INDUS', 'NOX', 'DIS'),\n",
       " ('CRIM', 'INDUS', 'NOX', 'RAD'),\n",
       " ('CRIM', 'INDUS', 'NOX', 'TAX'),\n",
       " ('CRIM', 'INDUS', 'NOX', 'PTRATIO'),\n",
       " ('CRIM', 'INDUS', 'NOX', 'B'),\n",
       " ('CRIM', 'INDUS', 'NOX', 'LSTAT'),\n",
       " ('CRIM', 'INDUS', 'RM', 'AGE'),\n",
       " ('CRIM', 'INDUS', 'RM', 'DIS'),\n",
       " ('CRIM', 'INDUS', 'RM', 'RAD'),\n",
       " ('CRIM', 'INDUS', 'RM', 'TAX'),\n",
       " ('CRIM', 'INDUS', 'RM', 'PTRATIO'),\n",
       " ('CRIM', 'INDUS', 'RM', 'B'),\n",
       " ('CRIM', 'INDUS', 'RM', 'LSTAT'),\n",
       " ('CRIM', 'INDUS', 'AGE', 'DIS'),\n",
       " ('CRIM', 'INDUS', 'AGE', 'RAD'),\n",
       " ('CRIM', 'INDUS', 'AGE', 'TAX'),\n",
       " ('CRIM', 'INDUS', 'AGE', 'PTRATIO'),\n",
       " ('CRIM', 'INDUS', 'AGE', 'B'),\n",
       " ('CRIM', 'INDUS', 'AGE', 'LSTAT'),\n",
       " ('CRIM', 'INDUS', 'DIS', 'RAD'),\n",
       " ('CRIM', 'INDUS', 'DIS', 'TAX'),\n",
       " ('CRIM', 'INDUS', 'DIS', 'PTRATIO'),\n",
       " ('CRIM', 'INDUS', 'DIS', 'B'),\n",
       " ('CRIM', 'INDUS', 'DIS', 'LSTAT'),\n",
       " ('CRIM', 'INDUS', 'RAD', 'TAX'),\n",
       " ('CRIM', 'INDUS', 'RAD', 'PTRATIO'),\n",
       " ('CRIM', 'INDUS', 'RAD', 'B'),\n",
       " ('CRIM', 'INDUS', 'RAD', 'LSTAT'),\n",
       " ('CRIM', 'INDUS', 'TAX', 'PTRATIO'),\n",
       " ('CRIM', 'INDUS', 'TAX', 'B'),\n",
       " ('CRIM', 'INDUS', 'TAX', 'LSTAT'),\n",
       " ('CRIM', 'INDUS', 'PTRATIO', 'B'),\n",
       " ('CRIM', 'INDUS', 'PTRATIO', 'LSTAT'),\n",
       " ('CRIM', 'INDUS', 'B', 'LSTAT'),\n",
       " ('CRIM', 'CHAS', 'NOX', 'RM'),\n",
       " ('CRIM', 'CHAS', 'NOX', 'AGE'),\n",
       " ('CRIM', 'CHAS', 'NOX', 'DIS'),\n",
       " ('CRIM', 'CHAS', 'NOX', 'RAD'),\n",
       " ('CRIM', 'CHAS', 'NOX', 'TAX'),\n",
       " ('CRIM', 'CHAS', 'NOX', 'PTRATIO'),\n",
       " ('CRIM', 'CHAS', 'NOX', 'B'),\n",
       " ('CRIM', 'CHAS', 'NOX', 'LSTAT'),\n",
       " ('CRIM', 'CHAS', 'RM', 'AGE'),\n",
       " ('CRIM', 'CHAS', 'RM', 'DIS'),\n",
       " ('CRIM', 'CHAS', 'RM', 'RAD'),\n",
       " ('CRIM', 'CHAS', 'RM', 'TAX'),\n",
       " ('CRIM', 'CHAS', 'RM', 'PTRATIO'),\n",
       " ('CRIM', 'CHAS', 'RM', 'B'),\n",
       " ('CRIM', 'CHAS', 'RM', 'LSTAT'),\n",
       " ('CRIM', 'CHAS', 'AGE', 'DIS'),\n",
       " ('CRIM', 'CHAS', 'AGE', 'RAD'),\n",
       " ('CRIM', 'CHAS', 'AGE', 'TAX'),\n",
       " ('CRIM', 'CHAS', 'AGE', 'PTRATIO'),\n",
       " ('CRIM', 'CHAS', 'AGE', 'B'),\n",
       " ('CRIM', 'CHAS', 'AGE', 'LSTAT'),\n",
       " ('CRIM', 'CHAS', 'DIS', 'RAD'),\n",
       " ('CRIM', 'CHAS', 'DIS', 'TAX'),\n",
       " ('CRIM', 'CHAS', 'DIS', 'PTRATIO'),\n",
       " ('CRIM', 'CHAS', 'DIS', 'B'),\n",
       " ('CRIM', 'CHAS', 'DIS', 'LSTAT'),\n",
       " ('CRIM', 'CHAS', 'RAD', 'TAX'),\n",
       " ('CRIM', 'CHAS', 'RAD', 'PTRATIO'),\n",
       " ('CRIM', 'CHAS', 'RAD', 'B'),\n",
       " ('CRIM', 'CHAS', 'RAD', 'LSTAT'),\n",
       " ('CRIM', 'CHAS', 'TAX', 'PTRATIO'),\n",
       " ('CRIM', 'CHAS', 'TAX', 'B'),\n",
       " ('CRIM', 'CHAS', 'TAX', 'LSTAT'),\n",
       " ('CRIM', 'CHAS', 'PTRATIO', 'B'),\n",
       " ('CRIM', 'CHAS', 'PTRATIO', 'LSTAT'),\n",
       " ('CRIM', 'CHAS', 'B', 'LSTAT'),\n",
       " ('CRIM', 'NOX', 'RM', 'AGE'),\n",
       " ('CRIM', 'NOX', 'RM', 'DIS'),\n",
       " ('CRIM', 'NOX', 'RM', 'RAD'),\n",
       " ('CRIM', 'NOX', 'RM', 'TAX'),\n",
       " ('CRIM', 'NOX', 'RM', 'PTRATIO'),\n",
       " ('CRIM', 'NOX', 'RM', 'B'),\n",
       " ('CRIM', 'NOX', 'RM', 'LSTAT'),\n",
       " ('CRIM', 'NOX', 'AGE', 'DIS'),\n",
       " ('CRIM', 'NOX', 'AGE', 'RAD'),\n",
       " ('CRIM', 'NOX', 'AGE', 'TAX'),\n",
       " ('CRIM', 'NOX', 'AGE', 'PTRATIO'),\n",
       " ('CRIM', 'NOX', 'AGE', 'B'),\n",
       " ('CRIM', 'NOX', 'AGE', 'LSTAT'),\n",
       " ('CRIM', 'NOX', 'DIS', 'RAD'),\n",
       " ('CRIM', 'NOX', 'DIS', 'TAX'),\n",
       " ('CRIM', 'NOX', 'DIS', 'PTRATIO'),\n",
       " ('CRIM', 'NOX', 'DIS', 'B'),\n",
       " ('CRIM', 'NOX', 'DIS', 'LSTAT'),\n",
       " ('CRIM', 'NOX', 'RAD', 'TAX'),\n",
       " ('CRIM', 'NOX', 'RAD', 'PTRATIO'),\n",
       " ('CRIM', 'NOX', 'RAD', 'B'),\n",
       " ('CRIM', 'NOX', 'RAD', 'LSTAT'),\n",
       " ('CRIM', 'NOX', 'TAX', 'PTRATIO'),\n",
       " ('CRIM', 'NOX', 'TAX', 'B'),\n",
       " ('CRIM', 'NOX', 'TAX', 'LSTAT'),\n",
       " ('CRIM', 'NOX', 'PTRATIO', 'B'),\n",
       " ('CRIM', 'NOX', 'PTRATIO', 'LSTAT'),\n",
       " ('CRIM', 'NOX', 'B', 'LSTAT'),\n",
       " ('CRIM', 'RM', 'AGE', 'DIS'),\n",
       " ('CRIM', 'RM', 'AGE', 'RAD'),\n",
       " ('CRIM', 'RM', 'AGE', 'TAX'),\n",
       " ('CRIM', 'RM', 'AGE', 'PTRATIO'),\n",
       " ('CRIM', 'RM', 'AGE', 'B'),\n",
       " ('CRIM', 'RM', 'AGE', 'LSTAT'),\n",
       " ('CRIM', 'RM', 'DIS', 'RAD'),\n",
       " ('CRIM', 'RM', 'DIS', 'TAX'),\n",
       " ('CRIM', 'RM', 'DIS', 'PTRATIO'),\n",
       " ('CRIM', 'RM', 'DIS', 'B'),\n",
       " ('CRIM', 'RM', 'DIS', 'LSTAT'),\n",
       " ('CRIM', 'RM', 'RAD', 'TAX'),\n",
       " ('CRIM', 'RM', 'RAD', 'PTRATIO'),\n",
       " ('CRIM', 'RM', 'RAD', 'B'),\n",
       " ('CRIM', 'RM', 'RAD', 'LSTAT'),\n",
       " ('CRIM', 'RM', 'TAX', 'PTRATIO'),\n",
       " ('CRIM', 'RM', 'TAX', 'B'),\n",
       " ('CRIM', 'RM', 'TAX', 'LSTAT'),\n",
       " ('CRIM', 'RM', 'PTRATIO', 'B'),\n",
       " ('CRIM', 'RM', 'PTRATIO', 'LSTAT'),\n",
       " ('CRIM', 'RM', 'B', 'LSTAT'),\n",
       " ('CRIM', 'AGE', 'DIS', 'RAD'),\n",
       " ('CRIM', 'AGE', 'DIS', 'TAX'),\n",
       " ('CRIM', 'AGE', 'DIS', 'PTRATIO'),\n",
       " ('CRIM', 'AGE', 'DIS', 'B'),\n",
       " ('CRIM', 'AGE', 'DIS', 'LSTAT'),\n",
       " ('CRIM', 'AGE', 'RAD', 'TAX'),\n",
       " ('CRIM', 'AGE', 'RAD', 'PTRATIO'),\n",
       " ('CRIM', 'AGE', 'RAD', 'B'),\n",
       " ('CRIM', 'AGE', 'RAD', 'LSTAT'),\n",
       " ('CRIM', 'AGE', 'TAX', 'PTRATIO'),\n",
       " ('CRIM', 'AGE', 'TAX', 'B'),\n",
       " ('CRIM', 'AGE', 'TAX', 'LSTAT'),\n",
       " ('CRIM', 'AGE', 'PTRATIO', 'B'),\n",
       " ('CRIM', 'AGE', 'PTRATIO', 'LSTAT'),\n",
       " ('CRIM', 'AGE', 'B', 'LSTAT'),\n",
       " ('CRIM', 'DIS', 'RAD', 'TAX'),\n",
       " ('CRIM', 'DIS', 'RAD', 'PTRATIO'),\n",
       " ('CRIM', 'DIS', 'RAD', 'B'),\n",
       " ('CRIM', 'DIS', 'RAD', 'LSTAT'),\n",
       " ('CRIM', 'DIS', 'TAX', 'PTRATIO'),\n",
       " ('CRIM', 'DIS', 'TAX', 'B'),\n",
       " ('CRIM', 'DIS', 'TAX', 'LSTAT'),\n",
       " ('CRIM', 'DIS', 'PTRATIO', 'B'),\n",
       " ('CRIM', 'DIS', 'PTRATIO', 'LSTAT'),\n",
       " ('CRIM', 'DIS', 'B', 'LSTAT'),\n",
       " ('CRIM', 'RAD', 'TAX', 'PTRATIO'),\n",
       " ('CRIM', 'RAD', 'TAX', 'B'),\n",
       " ('CRIM', 'RAD', 'TAX', 'LSTAT'),\n",
       " ('CRIM', 'RAD', 'PTRATIO', 'B'),\n",
       " ('CRIM', 'RAD', 'PTRATIO', 'LSTAT'),\n",
       " ('CRIM', 'RAD', 'B', 'LSTAT'),\n",
       " ('CRIM', 'TAX', 'PTRATIO', 'B'),\n",
       " ('CRIM', 'TAX', 'PTRATIO', 'LSTAT'),\n",
       " ('CRIM', 'TAX', 'B', 'LSTAT'),\n",
       " ('CRIM', 'PTRATIO', 'B', 'LSTAT'),\n",
       " ('ZN', 'INDUS', 'CHAS', 'NOX'),\n",
       " ('ZN', 'INDUS', 'CHAS', 'RM'),\n",
       " ('ZN', 'INDUS', 'CHAS', 'AGE'),\n",
       " ('ZN', 'INDUS', 'CHAS', 'DIS'),\n",
       " ('ZN', 'INDUS', 'CHAS', 'RAD'),\n",
       " ('ZN', 'INDUS', 'CHAS', 'TAX'),\n",
       " ('ZN', 'INDUS', 'CHAS', 'PTRATIO'),\n",
       " ('ZN', 'INDUS', 'CHAS', 'B'),\n",
       " ('ZN', 'INDUS', 'CHAS', 'LSTAT'),\n",
       " ('ZN', 'INDUS', 'NOX', 'RM'),\n",
       " ('ZN', 'INDUS', 'NOX', 'AGE'),\n",
       " ('ZN', 'INDUS', 'NOX', 'DIS'),\n",
       " ('ZN', 'INDUS', 'NOX', 'RAD'),\n",
       " ('ZN', 'INDUS', 'NOX', 'TAX'),\n",
       " ('ZN', 'INDUS', 'NOX', 'PTRATIO'),\n",
       " ('ZN', 'INDUS', 'NOX', 'B'),\n",
       " ('ZN', 'INDUS', 'NOX', 'LSTAT'),\n",
       " ('ZN', 'INDUS', 'RM', 'AGE'),\n",
       " ('ZN', 'INDUS', 'RM', 'DIS'),\n",
       " ('ZN', 'INDUS', 'RM', 'RAD'),\n",
       " ('ZN', 'INDUS', 'RM', 'TAX'),\n",
       " ('ZN', 'INDUS', 'RM', 'PTRATIO'),\n",
       " ('ZN', 'INDUS', 'RM', 'B'),\n",
       " ('ZN', 'INDUS', 'RM', 'LSTAT'),\n",
       " ('ZN', 'INDUS', 'AGE', 'DIS'),\n",
       " ('ZN', 'INDUS', 'AGE', 'RAD'),\n",
       " ('ZN', 'INDUS', 'AGE', 'TAX'),\n",
       " ('ZN', 'INDUS', 'AGE', 'PTRATIO'),\n",
       " ('ZN', 'INDUS', 'AGE', 'B'),\n",
       " ('ZN', 'INDUS', 'AGE', 'LSTAT'),\n",
       " ('ZN', 'INDUS', 'DIS', 'RAD'),\n",
       " ('ZN', 'INDUS', 'DIS', 'TAX'),\n",
       " ('ZN', 'INDUS', 'DIS', 'PTRATIO'),\n",
       " ('ZN', 'INDUS', 'DIS', 'B'),\n",
       " ('ZN', 'INDUS', 'DIS', 'LSTAT'),\n",
       " ('ZN', 'INDUS', 'RAD', 'TAX'),\n",
       " ('ZN', 'INDUS', 'RAD', 'PTRATIO'),\n",
       " ('ZN', 'INDUS', 'RAD', 'B'),\n",
       " ('ZN', 'INDUS', 'RAD', 'LSTAT'),\n",
       " ('ZN', 'INDUS', 'TAX', 'PTRATIO'),\n",
       " ('ZN', 'INDUS', 'TAX', 'B'),\n",
       " ('ZN', 'INDUS', 'TAX', 'LSTAT'),\n",
       " ('ZN', 'INDUS', 'PTRATIO', 'B'),\n",
       " ('ZN', 'INDUS', 'PTRATIO', 'LSTAT'),\n",
       " ('ZN', 'INDUS', 'B', 'LSTAT'),\n",
       " ('ZN', 'CHAS', 'NOX', 'RM'),\n",
       " ('ZN', 'CHAS', 'NOX', 'AGE'),\n",
       " ('ZN', 'CHAS', 'NOX', 'DIS'),\n",
       " ('ZN', 'CHAS', 'NOX', 'RAD'),\n",
       " ('ZN', 'CHAS', 'NOX', 'TAX'),\n",
       " ('ZN', 'CHAS', 'NOX', 'PTRATIO'),\n",
       " ('ZN', 'CHAS', 'NOX', 'B'),\n",
       " ('ZN', 'CHAS', 'NOX', 'LSTAT'),\n",
       " ('ZN', 'CHAS', 'RM', 'AGE'),\n",
       " ('ZN', 'CHAS', 'RM', 'DIS'),\n",
       " ('ZN', 'CHAS', 'RM', 'RAD'),\n",
       " ('ZN', 'CHAS', 'RM', 'TAX'),\n",
       " ('ZN', 'CHAS', 'RM', 'PTRATIO'),\n",
       " ('ZN', 'CHAS', 'RM', 'B'),\n",
       " ('ZN', 'CHAS', 'RM', 'LSTAT'),\n",
       " ('ZN', 'CHAS', 'AGE', 'DIS'),\n",
       " ('ZN', 'CHAS', 'AGE', 'RAD'),\n",
       " ('ZN', 'CHAS', 'AGE', 'TAX'),\n",
       " ('ZN', 'CHAS', 'AGE', 'PTRATIO'),\n",
       " ('ZN', 'CHAS', 'AGE', 'B'),\n",
       " ('ZN', 'CHAS', 'AGE', 'LSTAT'),\n",
       " ('ZN', 'CHAS', 'DIS', 'RAD'),\n",
       " ('ZN', 'CHAS', 'DIS', 'TAX'),\n",
       " ('ZN', 'CHAS', 'DIS', 'PTRATIO'),\n",
       " ('ZN', 'CHAS', 'DIS', 'B'),\n",
       " ('ZN', 'CHAS', 'DIS', 'LSTAT'),\n",
       " ('ZN', 'CHAS', 'RAD', 'TAX'),\n",
       " ('ZN', 'CHAS', 'RAD', 'PTRATIO'),\n",
       " ('ZN', 'CHAS', 'RAD', 'B'),\n",
       " ('ZN', 'CHAS', 'RAD', 'LSTAT'),\n",
       " ('ZN', 'CHAS', 'TAX', 'PTRATIO'),\n",
       " ('ZN', 'CHAS', 'TAX', 'B'),\n",
       " ('ZN', 'CHAS', 'TAX', 'LSTAT'),\n",
       " ('ZN', 'CHAS', 'PTRATIO', 'B'),\n",
       " ('ZN', 'CHAS', 'PTRATIO', 'LSTAT'),\n",
       " ('ZN', 'CHAS', 'B', 'LSTAT'),\n",
       " ('ZN', 'NOX', 'RM', 'AGE'),\n",
       " ('ZN', 'NOX', 'RM', 'DIS'),\n",
       " ('ZN', 'NOX', 'RM', 'RAD'),\n",
       " ('ZN', 'NOX', 'RM', 'TAX'),\n",
       " ('ZN', 'NOX', 'RM', 'PTRATIO'),\n",
       " ('ZN', 'NOX', 'RM', 'B'),\n",
       " ('ZN', 'NOX', 'RM', 'LSTAT'),\n",
       " ('ZN', 'NOX', 'AGE', 'DIS'),\n",
       " ('ZN', 'NOX', 'AGE', 'RAD'),\n",
       " ('ZN', 'NOX', 'AGE', 'TAX'),\n",
       " ('ZN', 'NOX', 'AGE', 'PTRATIO'),\n",
       " ('ZN', 'NOX', 'AGE', 'B'),\n",
       " ('ZN', 'NOX', 'AGE', 'LSTAT'),\n",
       " ('ZN', 'NOX', 'DIS', 'RAD'),\n",
       " ('ZN', 'NOX', 'DIS', 'TAX'),\n",
       " ('ZN', 'NOX', 'DIS', 'PTRATIO'),\n",
       " ('ZN', 'NOX', 'DIS', 'B'),\n",
       " ('ZN', 'NOX', 'DIS', 'LSTAT'),\n",
       " ('ZN', 'NOX', 'RAD', 'TAX'),\n",
       " ('ZN', 'NOX', 'RAD', 'PTRATIO'),\n",
       " ('ZN', 'NOX', 'RAD', 'B'),\n",
       " ('ZN', 'NOX', 'RAD', 'LSTAT'),\n",
       " ('ZN', 'NOX', 'TAX', 'PTRATIO'),\n",
       " ('ZN', 'NOX', 'TAX', 'B'),\n",
       " ('ZN', 'NOX', 'TAX', 'LSTAT'),\n",
       " ('ZN', 'NOX', 'PTRATIO', 'B'),\n",
       " ('ZN', 'NOX', 'PTRATIO', 'LSTAT'),\n",
       " ('ZN', 'NOX', 'B', 'LSTAT'),\n",
       " ('ZN', 'RM', 'AGE', 'DIS'),\n",
       " ('ZN', 'RM', 'AGE', 'RAD'),\n",
       " ('ZN', 'RM', 'AGE', 'TAX'),\n",
       " ('ZN', 'RM', 'AGE', 'PTRATIO'),\n",
       " ('ZN', 'RM', 'AGE', 'B'),\n",
       " ('ZN', 'RM', 'AGE', 'LSTAT'),\n",
       " ('ZN', 'RM', 'DIS', 'RAD'),\n",
       " ('ZN', 'RM', 'DIS', 'TAX'),\n",
       " ('ZN', 'RM', 'DIS', 'PTRATIO'),\n",
       " ('ZN', 'RM', 'DIS', 'B'),\n",
       " ('ZN', 'RM', 'DIS', 'LSTAT'),\n",
       " ('ZN', 'RM', 'RAD', 'TAX'),\n",
       " ('ZN', 'RM', 'RAD', 'PTRATIO'),\n",
       " ('ZN', 'RM', 'RAD', 'B'),\n",
       " ('ZN', 'RM', 'RAD', 'LSTAT'),\n",
       " ('ZN', 'RM', 'TAX', 'PTRATIO'),\n",
       " ('ZN', 'RM', 'TAX', 'B'),\n",
       " ('ZN', 'RM', 'TAX', 'LSTAT'),\n",
       " ('ZN', 'RM', 'PTRATIO', 'B'),\n",
       " ('ZN', 'RM', 'PTRATIO', 'LSTAT'),\n",
       " ('ZN', 'RM', 'B', 'LSTAT'),\n",
       " ('ZN', 'AGE', 'DIS', 'RAD'),\n",
       " ('ZN', 'AGE', 'DIS', 'TAX'),\n",
       " ('ZN', 'AGE', 'DIS', 'PTRATIO'),\n",
       " ('ZN', 'AGE', 'DIS', 'B'),\n",
       " ('ZN', 'AGE', 'DIS', 'LSTAT'),\n",
       " ('ZN', 'AGE', 'RAD', 'TAX'),\n",
       " ('ZN', 'AGE', 'RAD', 'PTRATIO'),\n",
       " ('ZN', 'AGE', 'RAD', 'B'),\n",
       " ('ZN', 'AGE', 'RAD', 'LSTAT'),\n",
       " ('ZN', 'AGE', 'TAX', 'PTRATIO'),\n",
       " ('ZN', 'AGE', 'TAX', 'B'),\n",
       " ('ZN', 'AGE', 'TAX', 'LSTAT'),\n",
       " ('ZN', 'AGE', 'PTRATIO', 'B'),\n",
       " ('ZN', 'AGE', 'PTRATIO', 'LSTAT'),\n",
       " ('ZN', 'AGE', 'B', 'LSTAT'),\n",
       " ('ZN', 'DIS', 'RAD', 'TAX'),\n",
       " ('ZN', 'DIS', 'RAD', 'PTRATIO'),\n",
       " ('ZN', 'DIS', 'RAD', 'B'),\n",
       " ('ZN', 'DIS', 'RAD', 'LSTAT'),\n",
       " ('ZN', 'DIS', 'TAX', 'PTRATIO'),\n",
       " ('ZN', 'DIS', 'TAX', 'B'),\n",
       " ('ZN', 'DIS', 'TAX', 'LSTAT'),\n",
       " ('ZN', 'DIS', 'PTRATIO', 'B'),\n",
       " ('ZN', 'DIS', 'PTRATIO', 'LSTAT'),\n",
       " ('ZN', 'DIS', 'B', 'LSTAT'),\n",
       " ('ZN', 'RAD', 'TAX', 'PTRATIO'),\n",
       " ('ZN', 'RAD', 'TAX', 'B'),\n",
       " ('ZN', 'RAD', 'TAX', 'LSTAT'),\n",
       " ('ZN', 'RAD', 'PTRATIO', 'B'),\n",
       " ('ZN', 'RAD', 'PTRATIO', 'LSTAT'),\n",
       " ('ZN', 'RAD', 'B', 'LSTAT'),\n",
       " ('ZN', 'TAX', 'PTRATIO', 'B'),\n",
       " ('ZN', 'TAX', 'PTRATIO', 'LSTAT'),\n",
       " ('ZN', 'TAX', 'B', 'LSTAT'),\n",
       " ('ZN', 'PTRATIO', 'B', 'LSTAT'),\n",
       " ('INDUS', 'CHAS', 'NOX', 'RM'),\n",
       " ('INDUS', 'CHAS', 'NOX', 'AGE'),\n",
       " ('INDUS', 'CHAS', 'NOX', 'DIS'),\n",
       " ('INDUS', 'CHAS', 'NOX', 'RAD'),\n",
       " ('INDUS', 'CHAS', 'NOX', 'TAX'),\n",
       " ('INDUS', 'CHAS', 'NOX', 'PTRATIO'),\n",
       " ('INDUS', 'CHAS', 'NOX', 'B'),\n",
       " ('INDUS', 'CHAS', 'NOX', 'LSTAT'),\n",
       " ('INDUS', 'CHAS', 'RM', 'AGE'),\n",
       " ('INDUS', 'CHAS', 'RM', 'DIS'),\n",
       " ('INDUS', 'CHAS', 'RM', 'RAD'),\n",
       " ('INDUS', 'CHAS', 'RM', 'TAX'),\n",
       " ('INDUS', 'CHAS', 'RM', 'PTRATIO'),\n",
       " ('INDUS', 'CHAS', 'RM', 'B'),\n",
       " ('INDUS', 'CHAS', 'RM', 'LSTAT'),\n",
       " ('INDUS', 'CHAS', 'AGE', 'DIS'),\n",
       " ('INDUS', 'CHAS', 'AGE', 'RAD'),\n",
       " ('INDUS', 'CHAS', 'AGE', 'TAX'),\n",
       " ('INDUS', 'CHAS', 'AGE', 'PTRATIO'),\n",
       " ('INDUS', 'CHAS', 'AGE', 'B'),\n",
       " ('INDUS', 'CHAS', 'AGE', 'LSTAT'),\n",
       " ('INDUS', 'CHAS', 'DIS', 'RAD'),\n",
       " ('INDUS', 'CHAS', 'DIS', 'TAX'),\n",
       " ('INDUS', 'CHAS', 'DIS', 'PTRATIO'),\n",
       " ('INDUS', 'CHAS', 'DIS', 'B'),\n",
       " ('INDUS', 'CHAS', 'DIS', 'LSTAT'),\n",
       " ('INDUS', 'CHAS', 'RAD', 'TAX'),\n",
       " ('INDUS', 'CHAS', 'RAD', 'PTRATIO'),\n",
       " ('INDUS', 'CHAS', 'RAD', 'B'),\n",
       " ('INDUS', 'CHAS', 'RAD', 'LSTAT'),\n",
       " ('INDUS', 'CHAS', 'TAX', 'PTRATIO'),\n",
       " ('INDUS', 'CHAS', 'TAX', 'B'),\n",
       " ('INDUS', 'CHAS', 'TAX', 'LSTAT'),\n",
       " ('INDUS', 'CHAS', 'PTRATIO', 'B'),\n",
       " ('INDUS', 'CHAS', 'PTRATIO', 'LSTAT'),\n",
       " ('INDUS', 'CHAS', 'B', 'LSTAT'),\n",
       " ('INDUS', 'NOX', 'RM', 'AGE'),\n",
       " ('INDUS', 'NOX', 'RM', 'DIS'),\n",
       " ('INDUS', 'NOX', 'RM', 'RAD'),\n",
       " ('INDUS', 'NOX', 'RM', 'TAX'),\n",
       " ('INDUS', 'NOX', 'RM', 'PTRATIO'),\n",
       " ('INDUS', 'NOX', 'RM', 'B'),\n",
       " ('INDUS', 'NOX', 'RM', 'LSTAT'),\n",
       " ('INDUS', 'NOX', 'AGE', 'DIS'),\n",
       " ('INDUS', 'NOX', 'AGE', 'RAD'),\n",
       " ('INDUS', 'NOX', 'AGE', 'TAX'),\n",
       " ('INDUS', 'NOX', 'AGE', 'PTRATIO'),\n",
       " ('INDUS', 'NOX', 'AGE', 'B'),\n",
       " ('INDUS', 'NOX', 'AGE', 'LSTAT'),\n",
       " ('INDUS', 'NOX', 'DIS', 'RAD'),\n",
       " ('INDUS', 'NOX', 'DIS', 'TAX'),\n",
       " ('INDUS', 'NOX', 'DIS', 'PTRATIO'),\n",
       " ('INDUS', 'NOX', 'DIS', 'B'),\n",
       " ('INDUS', 'NOX', 'DIS', 'LSTAT'),\n",
       " ('INDUS', 'NOX', 'RAD', 'TAX'),\n",
       " ('INDUS', 'NOX', 'RAD', 'PTRATIO'),\n",
       " ('INDUS', 'NOX', 'RAD', 'B'),\n",
       " ('INDUS', 'NOX', 'RAD', 'LSTAT'),\n",
       " ('INDUS', 'NOX', 'TAX', 'PTRATIO'),\n",
       " ('INDUS', 'NOX', 'TAX', 'B'),\n",
       " ('INDUS', 'NOX', 'TAX', 'LSTAT'),\n",
       " ('INDUS', 'NOX', 'PTRATIO', 'B'),\n",
       " ('INDUS', 'NOX', 'PTRATIO', 'LSTAT'),\n",
       " ('INDUS', 'NOX', 'B', 'LSTAT'),\n",
       " ('INDUS', 'RM', 'AGE', 'DIS'),\n",
       " ('INDUS', 'RM', 'AGE', 'RAD'),\n",
       " ('INDUS', 'RM', 'AGE', 'TAX'),\n",
       " ('INDUS', 'RM', 'AGE', 'PTRATIO'),\n",
       " ('INDUS', 'RM', 'AGE', 'B'),\n",
       " ('INDUS', 'RM', 'AGE', 'LSTAT'),\n",
       " ('INDUS', 'RM', 'DIS', 'RAD'),\n",
       " ('INDUS', 'RM', 'DIS', 'TAX'),\n",
       " ('INDUS', 'RM', 'DIS', 'PTRATIO'),\n",
       " ('INDUS', 'RM', 'DIS', 'B'),\n",
       " ('INDUS', 'RM', 'DIS', 'LSTAT'),\n",
       " ('INDUS', 'RM', 'RAD', 'TAX'),\n",
       " ('INDUS', 'RM', 'RAD', 'PTRATIO'),\n",
       " ('INDUS', 'RM', 'RAD', 'B'),\n",
       " ('INDUS', 'RM', 'RAD', 'LSTAT'),\n",
       " ('INDUS', 'RM', 'TAX', 'PTRATIO'),\n",
       " ('INDUS', 'RM', 'TAX', 'B'),\n",
       " ('INDUS', 'RM', 'TAX', 'LSTAT'),\n",
       " ('INDUS', 'RM', 'PTRATIO', 'B'),\n",
       " ('INDUS', 'RM', 'PTRATIO', 'LSTAT'),\n",
       " ('INDUS', 'RM', 'B', 'LSTAT'),\n",
       " ('INDUS', 'AGE', 'DIS', 'RAD'),\n",
       " ('INDUS', 'AGE', 'DIS', 'TAX'),\n",
       " ('INDUS', 'AGE', 'DIS', 'PTRATIO'),\n",
       " ('INDUS', 'AGE', 'DIS', 'B'),\n",
       " ('INDUS', 'AGE', 'DIS', 'LSTAT'),\n",
       " ('INDUS', 'AGE', 'RAD', 'TAX'),\n",
       " ('INDUS', 'AGE', 'RAD', 'PTRATIO'),\n",
       " ('INDUS', 'AGE', 'RAD', 'B'),\n",
       " ('INDUS', 'AGE', 'RAD', 'LSTAT'),\n",
       " ('INDUS', 'AGE', 'TAX', 'PTRATIO'),\n",
       " ('INDUS', 'AGE', 'TAX', 'B'),\n",
       " ('INDUS', 'AGE', 'TAX', 'LSTAT'),\n",
       " ('INDUS', 'AGE', 'PTRATIO', 'B'),\n",
       " ('INDUS', 'AGE', 'PTRATIO', 'LSTAT'),\n",
       " ('INDUS', 'AGE', 'B', 'LSTAT'),\n",
       " ('INDUS', 'DIS', 'RAD', 'TAX'),\n",
       " ('INDUS', 'DIS', 'RAD', 'PTRATIO'),\n",
       " ('INDUS', 'DIS', 'RAD', 'B'),\n",
       " ('INDUS', 'DIS', 'RAD', 'LSTAT'),\n",
       " ('INDUS', 'DIS', 'TAX', 'PTRATIO'),\n",
       " ('INDUS', 'DIS', 'TAX', 'B'),\n",
       " ('INDUS', 'DIS', 'TAX', 'LSTAT'),\n",
       " ('INDUS', 'DIS', 'PTRATIO', 'B'),\n",
       " ('INDUS', 'DIS', 'PTRATIO', 'LSTAT'),\n",
       " ('INDUS', 'DIS', 'B', 'LSTAT'),\n",
       " ('INDUS', 'RAD', 'TAX', 'PTRATIO'),\n",
       " ('INDUS', 'RAD', 'TAX', 'B'),\n",
       " ('INDUS', 'RAD', 'TAX', 'LSTAT'),\n",
       " ('INDUS', 'RAD', 'PTRATIO', 'B'),\n",
       " ('INDUS', 'RAD', 'PTRATIO', 'LSTAT'),\n",
       " ('INDUS', 'RAD', 'B', 'LSTAT'),\n",
       " ('INDUS', 'TAX', 'PTRATIO', 'B'),\n",
       " ('INDUS', 'TAX', 'PTRATIO', 'LSTAT'),\n",
       " ('INDUS', 'TAX', 'B', 'LSTAT'),\n",
       " ('INDUS', 'PTRATIO', 'B', 'LSTAT'),\n",
       " ('CHAS', 'NOX', 'RM', 'AGE'),\n",
       " ('CHAS', 'NOX', 'RM', 'DIS'),\n",
       " ('CHAS', 'NOX', 'RM', 'RAD'),\n",
       " ('CHAS', 'NOX', 'RM', 'TAX'),\n",
       " ('CHAS', 'NOX', 'RM', 'PTRATIO'),\n",
       " ('CHAS', 'NOX', 'RM', 'B'),\n",
       " ('CHAS', 'NOX', 'RM', 'LSTAT'),\n",
       " ('CHAS', 'NOX', 'AGE', 'DIS'),\n",
       " ('CHAS', 'NOX', 'AGE', 'RAD'),\n",
       " ('CHAS', 'NOX', 'AGE', 'TAX'),\n",
       " ('CHAS', 'NOX', 'AGE', 'PTRATIO'),\n",
       " ('CHAS', 'NOX', 'AGE', 'B'),\n",
       " ('CHAS', 'NOX', 'AGE', 'LSTAT'),\n",
       " ('CHAS', 'NOX', 'DIS', 'RAD'),\n",
       " ('CHAS', 'NOX', 'DIS', 'TAX'),\n",
       " ('CHAS', 'NOX', 'DIS', 'PTRATIO'),\n",
       " ('CHAS', 'NOX', 'DIS', 'B'),\n",
       " ('CHAS', 'NOX', 'DIS', 'LSTAT'),\n",
       " ('CHAS', 'NOX', 'RAD', 'TAX'),\n",
       " ('CHAS', 'NOX', 'RAD', 'PTRATIO'),\n",
       " ('CHAS', 'NOX', 'RAD', 'B'),\n",
       " ('CHAS', 'NOX', 'RAD', 'LSTAT'),\n",
       " ('CHAS', 'NOX', 'TAX', 'PTRATIO'),\n",
       " ('CHAS', 'NOX', 'TAX', 'B'),\n",
       " ('CHAS', 'NOX', 'TAX', 'LSTAT'),\n",
       " ('CHAS', 'NOX', 'PTRATIO', 'B'),\n",
       " ('CHAS', 'NOX', 'PTRATIO', 'LSTAT'),\n",
       " ('CHAS', 'NOX', 'B', 'LSTAT'),\n",
       " ('CHAS', 'RM', 'AGE', 'DIS'),\n",
       " ('CHAS', 'RM', 'AGE', 'RAD'),\n",
       " ('CHAS', 'RM', 'AGE', 'TAX'),\n",
       " ('CHAS', 'RM', 'AGE', 'PTRATIO'),\n",
       " ('CHAS', 'RM', 'AGE', 'B'),\n",
       " ('CHAS', 'RM', 'AGE', 'LSTAT'),\n",
       " ('CHAS', 'RM', 'DIS', 'RAD'),\n",
       " ('CHAS', 'RM', 'DIS', 'TAX'),\n",
       " ('CHAS', 'RM', 'DIS', 'PTRATIO'),\n",
       " ('CHAS', 'RM', 'DIS', 'B'),\n",
       " ('CHAS', 'RM', 'DIS', 'LSTAT'),\n",
       " ('CHAS', 'RM', 'RAD', 'TAX'),\n",
       " ('CHAS', 'RM', 'RAD', 'PTRATIO'),\n",
       " ('CHAS', 'RM', 'RAD', 'B'),\n",
       " ('CHAS', 'RM', 'RAD', 'LSTAT'),\n",
       " ('CHAS', 'RM', 'TAX', 'PTRATIO'),\n",
       " ('CHAS', 'RM', 'TAX', 'B'),\n",
       " ('CHAS', 'RM', 'TAX', 'LSTAT'),\n",
       " ('CHAS', 'RM', 'PTRATIO', 'B'),\n",
       " ('CHAS', 'RM', 'PTRATIO', 'LSTAT'),\n",
       " ('CHAS', 'RM', 'B', 'LSTAT'),\n",
       " ('CHAS', 'AGE', 'DIS', 'RAD'),\n",
       " ('CHAS', 'AGE', 'DIS', 'TAX'),\n",
       " ('CHAS', 'AGE', 'DIS', 'PTRATIO'),\n",
       " ('CHAS', 'AGE', 'DIS', 'B'),\n",
       " ('CHAS', 'AGE', 'DIS', 'LSTAT'),\n",
       " ('CHAS', 'AGE', 'RAD', 'TAX'),\n",
       " ('CHAS', 'AGE', 'RAD', 'PTRATIO'),\n",
       " ('CHAS', 'AGE', 'RAD', 'B'),\n",
       " ('CHAS', 'AGE', 'RAD', 'LSTAT'),\n",
       " ('CHAS', 'AGE', 'TAX', 'PTRATIO'),\n",
       " ('CHAS', 'AGE', 'TAX', 'B'),\n",
       " ('CHAS', 'AGE', 'TAX', 'LSTAT'),\n",
       " ('CHAS', 'AGE', 'PTRATIO', 'B'),\n",
       " ('CHAS', 'AGE', 'PTRATIO', 'LSTAT'),\n",
       " ('CHAS', 'AGE', 'B', 'LSTAT'),\n",
       " ('CHAS', 'DIS', 'RAD', 'TAX'),\n",
       " ('CHAS', 'DIS', 'RAD', 'PTRATIO'),\n",
       " ('CHAS', 'DIS', 'RAD', 'B'),\n",
       " ('CHAS', 'DIS', 'RAD', 'LSTAT'),\n",
       " ('CHAS', 'DIS', 'TAX', 'PTRATIO'),\n",
       " ('CHAS', 'DIS', 'TAX', 'B'),\n",
       " ('CHAS', 'DIS', 'TAX', 'LSTAT'),\n",
       " ('CHAS', 'DIS', 'PTRATIO', 'B'),\n",
       " ('CHAS', 'DIS', 'PTRATIO', 'LSTAT'),\n",
       " ('CHAS', 'DIS', 'B', 'LSTAT'),\n",
       " ('CHAS', 'RAD', 'TAX', 'PTRATIO'),\n",
       " ('CHAS', 'RAD', 'TAX', 'B'),\n",
       " ('CHAS', 'RAD', 'TAX', 'LSTAT'),\n",
       " ('CHAS', 'RAD', 'PTRATIO', 'B'),\n",
       " ('CHAS', 'RAD', 'PTRATIO', 'LSTAT'),\n",
       " ('CHAS', 'RAD', 'B', 'LSTAT'),\n",
       " ('CHAS', 'TAX', 'PTRATIO', 'B'),\n",
       " ('CHAS', 'TAX', 'PTRATIO', 'LSTAT'),\n",
       " ('CHAS', 'TAX', 'B', 'LSTAT'),\n",
       " ('CHAS', 'PTRATIO', 'B', 'LSTAT'),\n",
       " ('NOX', 'RM', 'AGE', 'DIS'),\n",
       " ('NOX', 'RM', 'AGE', 'RAD'),\n",
       " ('NOX', 'RM', 'AGE', 'TAX'),\n",
       " ('NOX', 'RM', 'AGE', 'PTRATIO'),\n",
       " ('NOX', 'RM', 'AGE', 'B'),\n",
       " ('NOX', 'RM', 'AGE', 'LSTAT'),\n",
       " ('NOX', 'RM', 'DIS', 'RAD'),\n",
       " ('NOX', 'RM', 'DIS', 'TAX'),\n",
       " ('NOX', 'RM', 'DIS', 'PTRATIO'),\n",
       " ('NOX', 'RM', 'DIS', 'B'),\n",
       " ('NOX', 'RM', 'DIS', 'LSTAT'),\n",
       " ('NOX', 'RM', 'RAD', 'TAX'),\n",
       " ('NOX', 'RM', 'RAD', 'PTRATIO'),\n",
       " ('NOX', 'RM', 'RAD', 'B'),\n",
       " ('NOX', 'RM', 'RAD', 'LSTAT'),\n",
       " ('NOX', 'RM', 'TAX', 'PTRATIO'),\n",
       " ('NOX', 'RM', 'TAX', 'B'),\n",
       " ('NOX', 'RM', 'TAX', 'LSTAT'),\n",
       " ('NOX', 'RM', 'PTRATIO', 'B'),\n",
       " ('NOX', 'RM', 'PTRATIO', 'LSTAT'),\n",
       " ('NOX', 'RM', 'B', 'LSTAT'),\n",
       " ('NOX', 'AGE', 'DIS', 'RAD'),\n",
       " ('NOX', 'AGE', 'DIS', 'TAX'),\n",
       " ('NOX', 'AGE', 'DIS', 'PTRATIO'),\n",
       " ('NOX', 'AGE', 'DIS', 'B'),\n",
       " ('NOX', 'AGE', 'DIS', 'LSTAT'),\n",
       " ('NOX', 'AGE', 'RAD', 'TAX'),\n",
       " ('NOX', 'AGE', 'RAD', 'PTRATIO'),\n",
       " ('NOX', 'AGE', 'RAD', 'B'),\n",
       " ('NOX', 'AGE', 'RAD', 'LSTAT'),\n",
       " ('NOX', 'AGE', 'TAX', 'PTRATIO'),\n",
       " ('NOX', 'AGE', 'TAX', 'B'),\n",
       " ('NOX', 'AGE', 'TAX', 'LSTAT'),\n",
       " ('NOX', 'AGE', 'PTRATIO', 'B'),\n",
       " ...]"
      ]
     },
     "execution_count": 27,
     "metadata": {},
     "output_type": "execute_result"
    }
   ],
   "source": [
    "combs"
   ]
  },
  {
   "cell_type": "markdown",
   "metadata": {},
   "source": [
    "### 5.1) Explain what could be wrong with this approach."
   ]
  },
  {
   "cell_type": "code",
   "execution_count": 28,
   "metadata": {
    "collapsed": true
   },
   "outputs": [],
   "source": [
    "# A:"
   ]
  },
  {
   "cell_type": "markdown",
   "metadata": {},
   "source": [
    "### 6) [Bonus] Explore another target variable and practice Patsy formulas.\n",
    "\n",
    "Can you find another response variable, given a combination of predictors, that can be predicted accurately through the exploration of different predictors in this data set?\n",
    "\n",
    "**Try using Patsy to construct your target and predictor matrices from formula strings.**\n",
    "\n",
    "> *Tip: Check out pairplots, coefficients, and Pearson scores.*"
   ]
  },
  {
   "cell_type": "code",
   "execution_count": 29,
   "metadata": {
    "collapsed": true
   },
   "outputs": [],
   "source": [
    "import patsy\n",
    "\n",
    "# A:"
   ]
  }
 ],
 "metadata": {
  "anaconda-cloud": {},
  "kernelspec": {
   "display_name": "Python 3",
   "language": "python",
   "name": "python3"
  },
  "language_info": {
   "codemirror_mode": {
    "name": "ipython",
    "version": 3
   },
   "file_extension": ".py",
   "mimetype": "text/x-python",
   "name": "python",
   "nbconvert_exporter": "python",
   "pygments_lexer": "ipython3",
   "version": "3.11.5"
  }
 },
 "nbformat": 4,
 "nbformat_minor": 1
}
